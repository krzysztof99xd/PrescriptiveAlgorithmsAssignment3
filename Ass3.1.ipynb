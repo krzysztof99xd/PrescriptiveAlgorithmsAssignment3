{
 "cells": [
  {
   "cell_type": "code",
   "id": "initial_id",
   "metadata": {
    "collapsed": true,
    "ExecuteTime": {
     "end_time": "2024-05-15T20:03:20.811125Z",
     "start_time": "2024-05-15T20:03:20.793017Z"
    }
   },
   "source": [
    "import os\n",
    "import pandas as pd\n",
    "import numpy as np\n",
    "import random\n",
    "from deap import base, creator, tools, algorithms\n",
    "\n",
    "np.random.seed(42)  # for reproducibility\n",
    "# Get the current working directory\n",
    "current_directory = os.getcwd()\n",
    "\n",
    "# Construct the relative path to prediction RUL file\n",
    "rul_filename = \"RUL_consultancy_predictions_A3-2.csv\"\n",
    "rul_path = os.path.join(current_directory, rul_filename)\n",
    "\n",
    "# Read the CSV file\n",
    "rul_df = pd.read_csv(rul_path, delimiter=';')\n",
    "print(rul_df)\n"
   ],
   "outputs": [
    {
     "name": "stdout",
     "output_type": "stream",
     "text": [
      "    RUL   id\n",
      "0   135    1\n",
      "1   125    2\n",
      "2    63    3\n",
      "3   100    4\n",
      "4   103    5\n",
      "..  ...  ...\n",
      "95  140   96\n",
      "96  109   97\n",
      "97   87   98\n",
      "98  127   99\n",
      "99   24  100\n",
      "\n",
      "[100 rows x 2 columns]\n"
     ]
    }
   ],
   "execution_count": 1
  },
  {
   "metadata": {
    "ExecuteTime": {
     "end_time": "2024-05-15T20:03:21.956412Z",
     "start_time": "2024-05-15T20:03:21.952533Z"
    }
   },
   "cell_type": "code",
   "source": [
    "# Define constants\n",
    "M = len(rul_df) # number of engines\n",
    "G = 4 # Total number of teams (2 type A, 2 type B)\n",
    "T = 30 # Planning horizon in days\n",
    "MAX_DAILY_COST = 250"
   ],
   "id": "ab4ff90333e6a86c",
   "outputs": [],
   "execution_count": 2
  },
  {
   "metadata": {
    "ExecuteTime": {
     "end_time": "2024-05-15T20:03:23.536061Z",
     "start_time": "2024-05-15T20:03:23.530031Z"
    }
   },
   "cell_type": "code",
   "source": [
    "# Define maintenance times for teams A and B\n",
    "maintenance_duration_a = [4 if i < 20 else 3 if 20 <= i < 55 else 2 if 55 <= i < 80 else 8 for i in range(1, M + 1)]\n",
    "maintenance_duration_b = [time_a + 1 if i < 25 else time_a + 2 if 25 <= i < 70 else time_a + 1 for i, time_a in enumerate(maintenance_duration_a, start=1)]\n",
    "\n",
    "\n",
    "# Define engine costs\n",
    "engine_costs = [4 if i < 21 else 3 if 21 <= i < 31 else 2 if 31 <= i < 46 else 5 if 46 <= i < 81 else 6 for i in range(1, M + 1)]\n",
    "\n"
   ],
   "id": "91645329d673a7d1",
   "outputs": [],
   "execution_count": 3
  },
  {
   "metadata": {
    "ExecuteTime": {
     "end_time": "2024-05-15T20:03:24.596449Z",
     "start_time": "2024-05-15T20:03:24.587380Z"
    }
   },
   "cell_type": "code",
   "source": [
    "def generate_random_schedule(T):\n",
    "    individual = []\n",
    "    # Track the availability of each team (A and B) on each day\n",
    "    team_availability = {day: {'A': 0, 'B': 0} for day in range(1, T + 1)}\n",
    "\n",
    "    # Apply filter to  allocate teams to engines that have a predicted safety due date of less than T = 30.\n",
    "\n",
    "    filtered_df = rul_df[rul_df['RUL'] <= T].copy()\n",
    "    engine_ids = list(filtered_df['id'])\n",
    "    random.shuffle(engine_ids)\n",
    "\n",
    "    # print(\"Engine IDs:\", engine_ids)\n",
    "\n",
    "    # Randomly assign teams to engines within the planning horizon\n",
    "    for engine_id in engine_ids:\n",
    "        engine_index = engine_id - 1\n",
    "        team_type = np.random.choice(['A', 'B'])  # Assume team type is A for this example\n",
    "\n",
    "        # Determine maintenance duration based on team type\n",
    "        maintenance_days = maintenance_duration_a[engine_index] if team_type == 'A' else maintenance_duration_b[engine_index]\n",
    "        valid_start_dates = []\n",
    "\n",
    "        # Search for valid start dates with continuous available days for maintenance duration\n",
    "        for start_day in range(1, T - maintenance_days + 2):\n",
    "            is_valid = True\n",
    "            for day in range(start_day, start_day + maintenance_days):\n",
    "                if team_availability[day][team_type] >= 2:  # Check if max team limit is exceeded on any day\n",
    "                    is_valid = False\n",
    "                    break\n",
    "            if is_valid:\n",
    "                valid_start_dates.append(start_day)\n",
    "\n",
    "        if not valid_start_dates:\n",
    "            continue\n",
    "\n",
    "        start_day = np.random.choice(valid_start_dates)\n",
    "        end_day = start_day + maintenance_days - 1\n",
    "\n",
    "        # Update team availability for the selected team and days\n",
    "        for day in range(start_day, end_day + 1):\n",
    "            team_availability[day][team_type] += 1\n",
    "\n",
    "        # Append to individual list\n",
    "        individual.append((engine_index, team_type, start_day))\n",
    "\n",
    "    return individual\n",
    "\n",
    "# Define the problem as a minimization problem\n",
    "creator.create(\"FitnessMin\", base.Fitness, weights=(-1.0,))\n",
    "creator.create(\"Individual\", list, fitness=creator.FitnessMin)\n",
    "# Initialization functions for individual and population.\n",
    "def init_individual(T):\n",
    "    return creator.Individual(generate_random_schedule(T))\n",
    "\n",
    "def init_population(size, T):\n",
    "    return [init_individual(T) for _ in range(size)]"
   ],
   "id": "71caa925d4554793",
   "outputs": [],
   "execution_count": 4
  },
  {
   "metadata": {
    "ExecuteTime": {
     "end_time": "2024-05-15T20:03:25.295569Z",
     "start_time": "2024-05-15T20:03:25.287181Z"
    }
   },
   "cell_type": "code",
   "source": [
    "\n",
    "# Calculates penalty cost per engine\n",
    "def calculate_penalty(engine_index, team_type, start_day,):\n",
    "    RUL = rul_df.loc[engine_index, 'RUL']\n",
    "    safety_due_date = RUL\n",
    "    maintenance_days = maintenance_duration_a[engine_index] if team_type == 'A' else maintenance_duration_b[engine_index]\n",
    "    end_day = start_day + maintenance_days - 1\n",
    "    penalty = 0\n",
    "\n",
    "    if end_day > safety_due_date:\n",
    "        overdue_days = end_day - safety_due_date\n",
    "        penalty = min(MAX_DAILY_COST, engine_costs[engine_index] * overdue_days ** 2)\n",
    "\n",
    "    return penalty\n",
    "\n",
    "# Define the fitness function.\n",
    "def evaluate(individual):\n",
    "    \"\"\"Fitness function for the individual. Returns total penalty cost for the individual\"\"\"\n",
    "    total_penalty = 0\n",
    "    for engine_index, team_type, start_day in individual:\n",
    "        penalty = calculate_penalty(engine_index, team_type, start_day)\n",
    "        total_penalty += penalty\n",
    "\n",
    "    return (total_penalty,)\n",
    "\n",
    "# Check invalid individuals\n",
    "def feasible(individual):\n",
    "    \"\"\"Feasibility function for the individual. Returns True if feasible False\n",
    "    otherwise.\"\"\"\n",
    "    team_availability = {day: {'A': 0, 'B': 0} for day in range(1, T + 1)}\n",
    "    unique_engines = set()\n",
    "    # Constraints:\n",
    "    for engine_index, team_type, start_day in individual:\n",
    "        # An engine can be maintained at most once.\n",
    "        if engine_index in unique_engines:\n",
    "            return False\n",
    "\n",
    "        maintenance_days = maintenance_duration_a[engine_index] if team_type == 'A' else maintenance_duration_b[engine_index]\n",
    "        end_day = start_day + maintenance_days - 1\n",
    "        \n",
    "        # Incomplete schedules are not allowed. \n",
    "        if end_day > T:\n",
    "            return False\n",
    "        \n",
    "        # A team can maintain one engine at a time\n",
    "        for day in range(start_day, end_day + 1):\n",
    "            if team_availability[day][team_type] >= 2:\n",
    "                return False\n",
    "            team_availability[day][team_type] += 1\n",
    "\n",
    "        unique_engines.add(engine_index)\n",
    "\n",
    "    return True\n"
   ],
   "id": "1b7cb2c198ba6179",
   "outputs": [],
   "execution_count": 5
  },
  {
   "metadata": {
    "ExecuteTime": {
     "end_time": "2024-05-15T20:03:26.641755Z",
     "start_time": "2024-05-15T20:03:26.090329Z"
    }
   },
   "cell_type": "code",
   "source": [
    "# Register genetic algorithm operators\n",
    "toolbox = base.Toolbox()\n",
    "toolbox.register(\"individual\", init_individual)\n",
    "toolbox.register(\"population\", init_population)\n",
    "toolbox.register(\"evaluate\", evaluate)\n",
    "toolbox.decorate(\"evaluate\", tools.DeltaPenalty(feasible, 10000))\n",
    "toolbox.register(\"mate\", tools.cxTwoPoint)\n",
    "# toolbox.register(\"mutate\", tools.mutShuffleIndexes(individual, indpb=0.01))\n",
    "toolbox.register(\"select\", tools.selTournament, tournsize=3)\n",
    "\n",
    "# Evolution parameters\n",
    "ngen = 50  # Generations\n",
    "\n",
    "# Create the population\n",
    "pop = toolbox.population(size=1000, T=T)\n",
    "# Hall of Fame and Statistics\n",
    "hof = tools.ParetoFront()\n",
    "stats = tools.Statistics(lambda ind: ind.fitness.values)\n",
    "\n",
    "# Register statistics\n",
    "stats.register(\"avg\", np.mean, axis=0)\n",
    "stats.register(\"std\", np.std, axis=0)\n",
    "stats.register(\"min\", np.min, axis=0)\n",
    "stats.register(\"max\", np.max, axis=0)"
   ],
   "id": "6a4bcbca04d9a0b5",
   "outputs": [],
   "execution_count": 6
  },
  {
   "metadata": {
    "ExecuteTime": {
     "end_time": "2024-05-15T20:03:31.821546Z",
     "start_time": "2024-05-15T20:03:27.183199Z"
    }
   },
   "cell_type": "code",
   "source": [
    "pop, logbook = algorithms.eaSimple(pop, toolbox, cxpb=0.7, mutpb=0.0,\n",
    "                                   ngen=ngen, stats=stats, halloffame=hof)"
   ],
   "id": "3743484c8c138a1",
   "outputs": [
    {
     "name": "stdout",
     "output_type": "stream",
     "text": [
      "gen\tnevals\tavg       \tstd           \tmin   \tmax    \n",
      "0  \t1000  \t[1472.206]\t[331.82226201]\t[494.]\t[2492.]\n",
      "1  \t642   \t[6791.999]\t[4233.6053034]\t[559.]\t[10000.]\n",
      "2  \t682   \t[7882.71] \t[3780.04631822]\t[559.]\t[10000.]\n",
      "3  \t708   \t[8472.69] \t[3352.53079358]\t[559.]\t[10000.]\n",
      "4  \t716   \t[8999.697]\t[2817.78732398]\t[559.]\t[10000.]\n",
      "5  \t728   \t[9242.937]\t[2500.99032246]\t[559.]\t[10000.]\n",
      "6  \t696   \t[9329.89] \t[2371.31753755]\t[559.]\t[10000.]\n",
      "7  \t710   \t[9481.907]\t[2108.32654453]\t[559.]\t[10000.]\n",
      "8  \t710   \t[9489.3]  \t[2097.7615365] \t[559.]\t[10000.]\n",
      "9  \t696   \t[9534.483]\t[2008.96141369]\t[559.]\t[10000.]\n",
      "10 \t698   \t[9523.372]\t[2036.00923417]\t[559.]\t[10000.]\n",
      "11 \t664   \t[9476.32] \t[2131.0339574] \t[559.]\t[10000.]\n",
      "12 \t696   \t[9575.739]\t[1932.80254886]\t[559.]\t[10000.]\n",
      "13 \t666   \t[9549.593]\t[1985.00303611]\t[559.]\t[10000.]\n",
      "14 \t676   \t[9493.066]\t[2102.06318878]\t[559.]\t[10000.]\n",
      "15 \t752   \t[9568.25] \t[1944.99307287]\t[559.]\t[10000.]\n",
      "16 \t704   \t[9493.458]\t[2100.50590055]\t[559.]\t[10000.]\n",
      "17 \t686   \t[9584.986]\t[1912.78687098]\t[559.]\t[10000.]\n",
      "18 \t654   \t[9585.711]\t[1909.48357141]\t[527.]\t[10000.]\n",
      "19 \t694   \t[9446.936]\t[2190.138402]  \t[559.]\t[10000.]\n",
      "20 \t664   \t[9247.079]\t[2536.97882111]\t[559.]\t[10000.]\n",
      "21 \t678   \t[8982.01] \t[2911.32089195]\t[381.]\t[10000.]\n",
      "22 \t682   \t[8346.941]\t[3577.36879333]\t[327.]\t[10000.]\n",
      "23 \t686   \t[7372.035]\t[4224.96003197]\t[327.]\t[10000.]\n",
      "24 \t708   \t[5536.949]\t[4711.22513073]\t[314.]\t[10000.]\n",
      "25 \t714   \t[2654.19] \t[3935.72532729]\t[314.]\t[10000.]\n",
      "26 \t686   \t[637.47]  \t[1034.39095467]\t[314.]\t[10000.]\n",
      "27 \t716   \t[492.411] \t[435.70726879] \t[231.]\t[10000.]\n",
      "28 \t676   \t[457.111] \t[745.6890925]  \t[177.]\t[10000.]\n",
      "29 \t730   \t[392.332] \t[681.95077665] \t[177.]\t[10000.]\n",
      "30 \t710   \t[349.797] \t[530.16617941] \t[164.]\t[10000.]\n",
      "31 \t682   \t[409.611] \t[1012.13348215]\t[127.]\t[10000.]\n",
      "32 \t714   \t[526.159] \t[1548.80523815]\t[127.]\t[10000.]\n",
      "33 \t682   \t[449.489] \t[1466.4738388] \t[127.]\t[10000.]\n",
      "34 \t696   \t[455.956] \t[1620.35939781]\t[127.]\t[10000.]\n",
      "35 \t718   \t[536.949] \t[1906.50852985]\t[127.]\t[10000.]\n",
      "36 \t694   \t[351.623] \t[1447.18569122]\t[127.]\t[10000.]\n",
      "37 \t702   \t[137.145] \t[312.06397097] \t[127.]\t[10000.]\n",
      "38 \t678   \t[127.]    \t[0.]           \t[127.]\t[127.]  \n",
      "39 \t712   \t[127.]    \t[0.]           \t[127.]\t[127.]  \n",
      "40 \t692   \t[127.]    \t[0.]           \t[127.]\t[127.]  \n",
      "41 \t700   \t[127.]    \t[0.]           \t[127.]\t[127.]  \n",
      "42 \t690   \t[127.]    \t[0.]           \t[127.]\t[127.]  \n",
      "43 \t698   \t[127.]    \t[0.]           \t[127.]\t[127.]  \n",
      "44 \t716   \t[127.]    \t[0.]           \t[127.]\t[127.]  \n",
      "45 \t698   \t[127.]    \t[0.]           \t[127.]\t[127.]  \n",
      "46 \t698   \t[127.]    \t[0.]           \t[127.]\t[127.]  \n",
      "47 \t710   \t[127.]    \t[0.]           \t[127.]\t[127.]  \n",
      "48 \t710   \t[127.]    \t[0.]           \t[127.]\t[127.]  \n",
      "49 \t676   \t[127.]    \t[0.]           \t[127.]\t[127.]  \n",
      "50 \t668   \t[127.]    \t[0.]           \t[127.]\t[127.]  \n"
     ]
    }
   ],
   "execution_count": 7
  },
  {
   "metadata": {
    "ExecuteTime": {
     "end_time": "2024-05-15T20:03:37.503196Z",
     "start_time": "2024-05-15T20:03:37.488663Z"
    }
   },
   "cell_type": "code",
   "source": [
    "# Best Solution\n",
    "best_individual = tools.selBest(pop, 1)[0]\n",
    "\n",
    "def convert_best_individual_to_schedule(individual):\n",
    "    schedule = []\n",
    "    \n",
    "    for engine_index, team_type, start_day in individual:\n",
    "        engine_id = engine_index + 1\n",
    "        maintenance_days = maintenance_duration_a[engine_index] if team_type == 'A' else maintenance_duration_b[engine_index]\n",
    "        end_day = start_day + maintenance_days - 1\n",
    "        RUL = rul_df.loc[engine_index, 'RUL']\n",
    "        penalty_cost = calculate_penalty(engine_index, team_type, start_day)\n",
    "        total_penalty_cost = evaluate(individual)[0]\n",
    "        schedule.append({\n",
    "            'Predicted_RUL': RUL,\n",
    "            'Engine_id': engine_id,\n",
    "            'Team': team_type, \n",
    "            'Start_date': start_day,\n",
    "            'End_date': end_day,\n",
    "            'Penalty_cost': penalty_cost,\n",
    "            'Total_penalty_cost': total_penalty_cost\n",
    "        })\n",
    "    \n",
    "    \n",
    "    return pd.DataFrame(schedule)\n",
    "    \n",
    "\n",
    "\n",
    "schedule_df = convert_best_individual_to_schedule(best_individual)\n",
    "schedule_df.to_csv('best_individual.csv', index=False)\n",
    "\n",
    "print(schedule_df)\n"
   ],
   "id": "6fccede2b1ee9270",
   "outputs": [
    {
     "name": "stdout",
     "output_type": "stream",
     "text": [
      "    Predicted_RUL  Engine_id Team  Start_date  End_date  Penalty_cost  \\\n",
      "0              26         24    B           5         8             0   \n",
      "1              24         36    B          26        30            72   \n",
      "2              21         37    B          13        17             0   \n",
      "3               8         35    A          10        12            32   \n",
      "4              27         77    B          26        28             5   \n",
      "5              24         64    B          12        15             0   \n",
      "6               3         76    B           1         3             0   \n",
      "7              29         40    A          21        23             0   \n",
      "8              24        100    B           4        12             0   \n",
      "9              29         91    B          16        24             0   \n",
      "10             18         66    A           8         9             0   \n",
      "11             23         41    A          13        15             0   \n",
      "12             23         61    B          20        23             0   \n",
      "13             28         90    A          21        28             0   \n",
      "14             13         68    B           1         4             0   \n",
      "15              8         34    A           9        11            18   \n",
      "16             18         56    A           2         3             0   \n",
      "17             10         20    A           4         6             0   \n",
      "18             14         49    A           2         4             0   \n",
      "\n",
      "    Total_penalty_cost  \n",
      "0                  127  \n",
      "1                  127  \n",
      "2                  127  \n",
      "3                  127  \n",
      "4                  127  \n",
      "5                  127  \n",
      "6                  127  \n",
      "7                  127  \n",
      "8                  127  \n",
      "9                  127  \n",
      "10                 127  \n",
      "11                 127  \n",
      "12                 127  \n",
      "13                 127  \n",
      "14                 127  \n",
      "15                 127  \n",
      "16                 127  \n",
      "17                 127  \n",
      "18                 127  \n"
     ]
    }
   ],
   "execution_count": 8
  },
  {
   "metadata": {
    "ExecuteTime": {
     "end_time": "2024-05-15T20:03:44.564718Z",
     "start_time": "2024-05-15T20:03:44.408949Z"
    }
   },
   "cell_type": "code",
   "source": [
    "import matplotlib.pyplot as plt\n",
    "import seaborn as sns\n",
    "\n",
    "# History AVG\n",
    "plt.figure(figsize=(10,8))\n",
    "front = np.array([(c['gen'], c['avg'][0]) for c in logbook])\n",
    "plt.plot(front[:,0][1:-1], front[:,1][1:-1], \"-bo\")\n",
    "plt.axis(\"tight\")\n",
    "plt.show()"
   ],
   "id": "459b76beb25bcf0",
   "outputs": [
    {
     "data": {
      "text/plain": [
       "<Figure size 1000x800 with 1 Axes>"
      ],
      "image/png": "[encoded data removed]"
     },
     "metadata": {},
     "output_type": "display_data"
    }
   ],
   "execution_count": 9
  },
  {
   "metadata": {
    "ExecuteTime": {
     "end_time": "2024-05-15T20:03:50.552823Z",
     "start_time": "2024-05-15T20:03:50.543473Z"
    }
   },
   "cell_type": "code",
   "source": [
    "import pandas as pd\n",
    "\n",
    "def count_teams_starting_each_day(schedule_df):\n",
    "    # Initialize a dictionary to hold the count of teams starting work each day\n",
    "    days_count = {day: 0 for day in range(1, T + 1)}\n",
    "\n",
    "    # Iterate through each row in the DataFrame\n",
    "    for index, row in schedule_df.iterrows():\n",
    "        start_day = row['Start_date']\n",
    "        if start_day in days_count:\n",
    "            days_count[start_day] += 1\n",
    "\n",
    "    # Convert the dictionary to a pandas DataFrame for better readability\n",
    "    days_count_df = pd.DataFrame(list(days_count.items()), columns=['Day', 'Teams_Starting'])\n",
    "    \n",
    "    return days_count_df\n",
    "\n",
    "# Example usage\n",
    "# Assume schedule_df is the DataFrame containing the maintenance schedule\n",
    "days_count_df = count_teams_starting_each_day(schedule_df)\n",
    "\n",
    "print(days_count_df)\n"
   ],
   "id": "4a5271c0d81bd95c",
   "outputs": [
    {
     "name": "stdout",
     "output_type": "stream",
     "text": [
      "    Day  Teams_Starting\n",
      "0     1               2\n",
      "1     2               2\n",
      "2     3               0\n",
      "3     4               2\n",
      "4     5               1\n",
      "5     6               0\n",
      "6     7               0\n",
      "7     8               1\n",
      "8     9               1\n",
      "9    10               1\n",
      "10   11               0\n",
      "11   12               1\n",
      "12   13               2\n",
      "13   14               0\n",
      "14   15               0\n",
      "15   16               1\n",
      "16   17               0\n",
      "17   18               0\n",
      "18   19               0\n",
      "19   20               1\n",
      "20   21               2\n",
      "21   22               0\n",
      "22   23               0\n",
      "23   24               0\n",
      "24   25               0\n",
      "25   26               2\n",
      "26   27               0\n",
      "27   28               0\n",
      "28   29               0\n",
      "29   30               0\n"
     ]
    }
   ],
   "execution_count": 10
  },
  {
   "metadata": {},
   "cell_type": "code",
   "source": "",
   "id": "940a15c62fcf5502",
   "outputs": [],
   "execution_count": null
  }
 ],
 "metadata": {
  "kernelspec": {
   "display_name": "Python 3",
   "language": "python",
   "name": "python3"
  },
  "language_info": {
   "codemirror_mode": {
    "name": "ipython",
    "version": 2
   },
   "file_extension": ".py",
   "mimetype": "text/x-python",
   "name": "python",
   "nbconvert_exporter": "python",
   "pygments_lexer": "ipython2",
   "version": "2.7.6"
  }
 },
 "nbformat": 4,
 "nbformat_minor": 5
}
