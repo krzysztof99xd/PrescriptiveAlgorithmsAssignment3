{
 "cells": [
  {
   "cell_type": "markdown",
   "id": "47573032",
   "metadata": {},
   "source": [
    "### Assignment description\n",
    "\n",
    "The algorithm should be suitable to solve the problem, and should be clearly described. It should be able\n",
    "to accept the predicted **Remaining Useful Lifetime (RULs)** for all engines as input, and output a valid maintenance solution for it. \n",
    "\n",
    "Such a solution should provide: \n",
    "(i) a list of all machines, indicating for any maintained machine the type of the team doing the maintenance, start-date, and end-date of the maintenance, as well as the penalty costs incurred by that machine;\n",
    "\n",
    "(ii) the total penalty costs. It is not important here what the concrete cost of such a solution is, it just should be feasible. Make sure your solution format is easy to read and understand\n",
    "\n",
    "**Input**: RUL predictions  (100 entries/rows)\n",
    "\n",
    "**Output**: a list of all machines, indicating for any maintained machine the type of the team doing the maintenance, start-date, and end-date of the maintenance, as well as the penalty costs incurred by that machine; (ii) the total penalty costs. (100 entries/rows)"
   ]
  },
  {
   "cell_type": "markdown",
   "id": "cf40f0fe",
   "metadata": {},
   "source": [
    "## Read the predicted RUL (that is our input) \n",
    "I do not understand why but they have one column which is separated by semicolon ...\n",
    "We need to transform it into a better, more readable solution "
   ]
  },
  {
   "cell_type": "markdown",
   "id": "a1ba59dd",
   "metadata": {},
   "source": [
    "## Lecture 6 from Hendrik Baier;  evolutionary algorithms \n",
    "\n",
    "## Input \n",
    "So the id from the RUL is the id of the engine, right? If we take the \n",
    "\n",
    "RUL;id\n",
    "135;1\n",
    "125;2\n",
    "...\n",
    "\n",
    "Engine number 1 has 135 days left until it needs to be maintained and engine 2 has 125 days ect.\n",
    "\n",
    "### First step in Genetic Algorithm: Population\n",
    "\n",
    "- Individual is one possible solution \n",
    "- the population is the set of possible solutions\n",
    "\n",
    "\n",
    "\n",
    "### Fitness evaluation\n",
    "In our case fitness evaluation is the penalty cost. The smaller the penalty cost, the better\n",
    "\n",
    "\n",
    "\n",
    "### Check termination criteria\n",
    "\n",
    "As presented on the slide it is very often unknown, often some threshold is introduced.  From Q&A session I found out that there is not really a termination criteria, but we need to run an algorithm for some time (as described in the assignment description) \n",
    "\n",
    "\n",
    "### Selection of parents\n",
    "\n",
    "From Q&A I know that this is 100% dependent on us. In DEAP package you can specify parameters to deal with parents\n",
    "\n",
    "### Crossover\n",
    "It depends on us, please check the DEAP package docs\n",
    "###  Mutation\n",
    "It depends on us, please check the DEAP package docs\n",
    "### New offspring \n",
    "It depends on us, please check the DEAP package docs\n",
    "\n",
    "## Output\n",
    "a list of all machines, indicating for any maintained machine the type of the team doing the maintenance, start-date, and end-date of the maintenance, as well as the penalty costs incurred by that machine; (ii) the total penalty costs. (100 entries/rows)"
   ]
  },
  {
   "cell_type": "markdown",
   "id": "f6b6f87f",
   "metadata": {},
   "source": [
    "## First create a random solution as a starting point?"
   ]
  },
  {
   "cell_type": "markdown",
   "id": "c67c92c6",
   "metadata": {},
   "source": [
    "## Lets start with the whole process by ourselves, I asked people and most of them coded the solution by themselves\n",
    "## First we define the indiviudal and the population"
   ]
  },
  {
   "cell_type": "markdown",
   "id": "25eeec56",
   "metadata": {},
   "source": [
    "## Fitness evaluation\n",
    "### The lower the penalty cost for the whole individual the better"
   ]
  },
  {
   "cell_type": "markdown",
   "id": "743c2cce",
   "metadata": {},
   "source": [
    "## Selection of parents\n",
    "### The probability of selecting individual is directly proportional to its fitness value"
   ]
  },
  {
   "cell_type": "code",
   "execution_count": null,
   "id": "91bb529d",
   "metadata": {},
   "outputs": [],
   "source": []
  },
  {
   "cell_type": "markdown",
   "id": "f78449c2",
   "metadata": {},
   "source": [
    "# Starting with DEAP package\n",
    "### If it is not installed, plase run the command below to run the DEAP python package"
   ]
  },
  {
   "cell_type": "code",
   "execution_count": 8,
   "id": "2e467be5",
   "metadata": {},
   "outputs": [
    {
     "name": "stdout",
     "output_type": "stream",
     "text": [
      "Collecting deap\n",
      "  Downloading deap-1.4.1.tar.gz (1.1 MB)\n",
      "     ---------------------------------------- 0.0/1.1 MB ? eta -:--:--\n",
      "     ---------------------------------------- 0.0/1.1 MB ? eta -:--:--\n",
      "     ---------------------------------------- 0.0/1.1 MB ? eta -:--:--\n",
      "     - -------------------------------------- 0.0/1.1 MB 281.8 kB/s eta 0:00:04\n",
      "     -- ------------------------------------- 0.1/1.1 MB 363.1 kB/s eta 0:00:03\n",
      "     ----------- ---------------------------- 0.3/1.1 MB 1.4 MB/s eta 0:00:01\n",
      "     ------------------------ --------------- 0.7/1.1 MB 2.6 MB/s eta 0:00:01\n",
      "     ------------------------ --------------- 0.7/1.1 MB 2.6 MB/s eta 0:00:01\n",
      "     ------------------------------- -------- 0.8/1.1 MB 2.4 MB/s eta 0:00:01\n",
      "     ---------------------------------------  1.1/1.1 MB 2.7 MB/s eta 0:00:01\n",
      "     ---------------------------------------- 1.1/1.1 MB 2.6 MB/s eta 0:00:00\n",
      "  Preparing metadata (setup.py): started\n",
      "  Preparing metadata (setup.py): finished with status 'done'\n",
      "Requirement already satisfied: numpy in c:\\users\\48504\\anaconda3\\lib\\site-packages (from deap) (1.24.3)\n",
      "Building wheels for collected packages: deap\n",
      "  Building wheel for deap (setup.py): started\n",
      "  Building wheel for deap (setup.py): finished with status 'done'\n",
      "  Created wheel for deap: filename=deap-1.4.1-py3-none-any.whl size=97349 sha256=f9bc4633f810f9f1301b482a66397a4ff8d2c27ac2ba5b02b4873571275ac5ab\n",
      "  Stored in directory: c:\\users\\48504\\appdata\\local\\pip\\cache\\wheels\\f8\\64\\b8\\65eacfbff3024ae2e2beb22e691d5c8abb89fbd863b8049b5f\n",
      "Successfully built deap\n",
      "Installing collected packages: deap\n",
      "Successfully installed deap-1.4.1\n",
      "Note: you may need to restart the kernel to use updated packages.\n"
     ]
    }
   ],
   "source": [
    "# pip install deap"
   ]
  },
  {
   "cell_type": "code",
   "execution_count": 28,
   "id": "c070b4db",
   "metadata": {},
   "outputs": [
    {
     "name": "stderr",
     "output_type": "stream",
     "text": [
      "C:\\Users\\48504\\anaconda3\\Lib\\site-packages\\deap\\creator.py:185: RuntimeWarning: A class named 'FitnessMin' has already been created and it will be overwritten. Consider deleting previous creation of that class or rename it.\n",
      "  warnings.warn(\"A class named '{0}' has already been created and it \"\n",
      "C:\\Users\\48504\\anaconda3\\Lib\\site-packages\\deap\\creator.py:185: RuntimeWarning: A class named 'Individual' has already been created and it will be overwritten. Consider deleting previous creation of that class or rename it.\n",
      "  warnings.warn(\"A class named '{0}' has already been created and it \"\n"
     ]
    },
    {
     "name": "stdout",
     "output_type": "stream",
     "text": [
      "gen\tnevals\tavg         \tstd            \tmin      \tmax      \n",
      "0  \t1000  \t[398672.414]\t[8402.51465078]\t[370830.]\t[425500.]\n",
      "1  \t1000  \t[385673.472]\t[5297.91221796]\t[370830.]\t[400302.]\n",
      "2  \t1000  \t[378229.875]\t[3857.76075818]\t[370250.]\t[390270.]\n",
      "3  \t1000  \t[373652.524]\t[2828.33621541]\t[360000.]\t[385000.]\n",
      "4  \t1000  \t[370021.347]\t[2928.77729549]\t[360000.]\t[380002.]\n",
      "5  \t1000  \t[366209.562]\t[3694.88678584]\t[360000.]\t[370830.]\n",
      "6  \t1000  \t[361721.909]\t[2534.42700284]\t[360000.]\t[370380.]\n",
      "7  \t1000  \t[359952.555]\t[545.75085614] \t[355000.]\t[365250.]\n",
      "8  \t1000  \t[359696.2]  \t[1191.98387573]\t[355000.]\t[360000.]\n",
      "9  \t1000  \t[358424.8]  \t[2317.59033481]\t[355000.]\t[360000.]\n",
      "10 \t1000  \t[355483.5]  \t[1471.92994059]\t[355000.]\t[360000.]\n"
     ]
    }
   ],
   "source": [
    "import random\n",
    "import numpy as np\n",
    "import pandas as pd\n",
    "from deap import algorithms, base, creator, tools\n",
    "import matplotlib.pyplot as plt\n",
    "import seaborn as sns\n",
    "\n",
    "# Define constants\n",
    "NUM_ENGINES = 100  \n",
    "NUM_TEAMS_A = 2\n",
    "NUM_TEAMS_B = 2\n",
    "PLANNING_HORIZON = 30\n",
    "MAX_DAILY_COST = 250\n",
    "\n",
    "# Example maintenance times and engine costs (replace with your actual data)\n",
    "maintenance_times_a = [4 if i < 20 else 3 if 20 <= i < 55 else 2 if 55 <= i < 80 else 8 for i in range(1, NUM_ENGINES + 1)]\n",
    "maintenance_times_b = [time_a + 1 if i < 25 else time_a + 2 if 25 <= i < 70 else time_a + 1 for i, time_a in enumerate(maintenance_times_a, start=1)]\n",
    "engine_costs = [4 if i < 21 else 3 if 21 <= i < 31 else 2 if 31 <= i < 46 else 5 if 46 <= i < 81 else 6 for i in range(1, NUM_ENGINES + 1)]\n",
    "\n",
    "\n",
    "# Define fitness and individual classes\n",
    "creator.create(\"FitnessMin\", base.Fitness, weights=(-1.0,))\n",
    "creator.create(\"Individual\", list, fitness=creator.FitnessMin)\n",
    "\n",
    "# Initialize the toolbox\n",
    "toolbox = base.Toolbox()\n",
    "\n",
    "# Attribute generator function to create multiple attributes\n",
    "def create_individual():\n",
    "    engine = rul_df.sample().iloc[0]\n",
    "    engine_id = engine['id']\n",
    "    team_allocated = random.choice(['A', 'B'])\n",
    "    start_maintenance = random.randint(1, PLANNING_HORIZON)\n",
    "    \n",
    "    if team_allocated == 'A':\n",
    "        duration = maintenance_times_a[engine_id - 1]\n",
    "    else:\n",
    "        duration = maintenance_times_b[engine_id - 1]\n",
    "    \n",
    "    end_maintenance = start_maintenance + duration\n",
    "    \n",
    "    return {\n",
    "        'engine_id': engine_id,\n",
    "        'team_allocated': team_allocated,\n",
    "        'start_maintenance': start_maintenance,\n",
    "        'end_maintenance': end_maintenance,\n",
    "        'cost': engine_costs[engine_id - 1],\n",
    "        'safety_due_date': engine['RUL']  # Using RUL as safety_due_date\n",
    "    }\n",
    "\n",
    "# Register the individual generator\n",
    "toolbox.register(\"individual\", tools.initRepeat, creator.Individual, create_individual, NUM_ENGINES)\n",
    "toolbox.register(\"population\", tools.initRepeat, list, toolbox.individual)\n",
    "\n",
    "# Create the population\n",
    "pop = toolbox.population(n=1000)\n",
    "\n",
    "# Function to calculate penalty cost for unmaintained engine/machine with constraints\n",
    "def calculate_penalty_cost(individual):\n",
    "    total_penalty = 0\n",
    "    team_schedule = {\n",
    "        'A1': [], 'A2': [],\n",
    "        'B1': [], 'B2': []\n",
    "    }\n",
    "    \n",
    "    for engine in individual:\n",
    "        start = engine['start_maintenance']\n",
    "        end = engine['end_maintenance']\n",
    "        team = engine['team_allocated']\n",
    "        cost = engine['cost']\n",
    "        safety_due_date = engine['safety_due_date']\n",
    "        \n",
    "        # Handle teams with multiple instances\n",
    "        if team == 'A':\n",
    "            available_team = None\n",
    "            for team_instance in ['A1', 'A2']:\n",
    "                if all(end < s or start > e for s, e in team_schedule[team_instance]):\n",
    "                    available_team = team_instance\n",
    "                    break\n",
    "            if available_team is None:\n",
    "                penalty_cost = 5000  # High penalty for scheduling conflict\n",
    "            else:\n",
    "                team_schedule[available_team].append((start, end))\n",
    "                if end > safety_due_date:\n",
    "                    days_late = end - safety_due_date\n",
    "                    penalty_cost = min(cost * days_late ** 2, MAX_DAILY_COST)\n",
    "                else:\n",
    "                    penalty_cost = 0\n",
    "        elif team == 'B':\n",
    "            available_team = None\n",
    "            for team_instance in ['B1', 'B2']:\n",
    "                if all(end < s or start > e for s, e in team_schedule[team_instance]):\n",
    "                    available_team = team_instance\n",
    "                    break\n",
    "            if available_team is None:\n",
    "                penalty_cost = 5000  # High penalty for scheduling conflict\n",
    "            else:\n",
    "                team_schedule[available_team].append((start, end))\n",
    "                if end > safety_due_date:\n",
    "                    days_late = end - safety_due_date\n",
    "                    penalty_cost = min(cost * days_late ** 2, MAX_DAILY_COST)\n",
    "                else:\n",
    "                    penalty_cost = 0\n",
    "        \n",
    "        total_penalty += penalty_cost\n",
    "    \n",
    "    return (total_penalty,)\n",
    "\n",
    "# Register genetic operators and evaluation function\n",
    "toolbox.register(\"evaluate\", calculate_penalty_cost)\n",
    "toolbox.register(\"mate\", tools.cxUniform, indpb=0.5)\n",
    "toolbox.register(\"select\", tools.selTournament, tournsize=10)\n",
    "toolbox.register(\"mutate\", tools.mutShuffleIndexes, indpb=0.5)\n",
    "\n",
    "# Evolution parameters\n",
    "ngen = 20  # Generations\n",
    "npop = 1000  # Population\n",
    "\n",
    "# Hall of Fame and Statistics\n",
    "hof = tools.ParetoFront()\n",
    "stats = tools.Statistics(lambda ind: ind.fitness.values)\n",
    "\n",
    "# Register statistics\n",
    "stats.register(\"avg\", np.mean, axis=0)\n",
    "stats.register(\"std\", np.std, axis=0)\n",
    "stats.register(\"min\", np.min, axis=0)\n",
    "stats.register(\"max\", np.max, axis=0)\n",
    "\n",
    "# Evolution\n",
    "pop, logbook = algorithms.eaMuPlusLambda(pop, toolbox, mu=npop, lambda_=npop,\n",
    "                                         cxpb=0.7, mutpb=0.3, ngen=ngen,\n",
    "                                         stats=stats, halloffame=hof)\n"
   ]
  },
  {
   "cell_type": "code",
   "execution_count": 29,
   "id": "cecf04d8",
   "metadata": {},
   "outputs": [
    {
     "name": "stdout",
     "output_type": "stream",
     "text": [
      "\n",
      "[10] best_score: 355000.0\n",
      "TO CSV\n",
      "    engine_id team_allocated  start_maintenance  end_maintenance  cost  \\\n",
      "0          60              A                  8               10     5   \n",
      "1          58              A                  1                3     5   \n",
      "2          36              A                 11               14     2   \n",
      "3          30              B                  8               13     3   \n",
      "4          54              A                  9               12     5   \n",
      "..        ...            ...                ...              ...   ...   \n",
      "95         60              A                 29               31     5   \n",
      "96         39              A                 27               30     2   \n",
      "97         65              A                  2                4     5   \n",
      "98         13              A                 19               23     4   \n",
      "99         44              A                 24               27     2   \n",
      "\n",
      "    safety_due_date  \n",
      "0               112  \n",
      "1                38  \n",
      "2                24  \n",
      "3                87  \n",
      "4               126  \n",
      "..              ...  \n",
      "95              112  \n",
      "96              144  \n",
      "97              152  \n",
      "98               87  \n",
      "99              146  \n",
      "\n",
      "[100 rows x 6 columns]\n"
     ]
    }
   ],
   "source": [
    "# Best Solution\n",
    "best_solution = tools.selBest(pop, 1)[0]\n",
    "print(\"\")\n",
    "# print(best_solution)\n",
    "print(\"[{}] best_score: {}\".format(logbook[-1]['gen'], logbook[-1]['min'][0]))\n",
    "\n",
    "# Function to save best individual to CSV\n",
    "def save_best_individual_to_csv(best_individual, filename):\n",
    "    # Convert the list of dictionaries to a DataFrame\n",
    "    df = pd.DataFrame(best_individual)\n",
    "    print(\"TO CSV\")\n",
    "    print(df)\n",
    "    # Save the DataFrame to a CSV file\n",
    "#     df.to_csv(filename, index=False)\n",
    "#     print(f\"Best individual saved to {filename}\")\n",
    "\n",
    "# Save the best solution to a CSV file\n",
    "save_best_individual_to_csv(best_solution, 'best_individual.csv')\n"
   ]
  },
  {
   "cell_type": "code",
   "execution_count": 30,
   "id": "83105e49",
   "metadata": {},
   "outputs": [
    {
     "name": "stderr",
     "output_type": "stream",
     "text": [
      "C:\\Users\\48504\\AppData\\Local\\Temp\\ipykernel_19252\\176971312.py:7: UserWarning: color is redundantly defined by the 'color' keyword argument and the fmt string \"-bo\" (-> color='b'). The keyword argument will take precedence.\n",
      "  plt.plot(front[:,0][1:-1], front[:,1][1:-1], \"-bo\", c=\"b\")\n"
     ]
    },
    {
     "data": {
      "image/png": "[encoded data removed]",
      "text/plain": [
       "<Figure size 1000x800 with 1 Axes>"
      ]
     },
     "metadata": {},
     "output_type": "display_data"
    }
   ],
   "source": [
    "import matplotlib.pyplot as plt\n",
    "import seaborn as sns\n",
    "\n",
    "# History AVG\n",
    "plt.figure(figsize=(10,8))\n",
    "front = np.array([(c['gen'], c['avg'][0]) for c in logbook])\n",
    "plt.plot(front[:,0][1:-1], front[:,1][1:-1], \"-bo\", c=\"b\")\n",
    "plt.axis(\"tight\")\n",
    "plt.show()"
   ]
  },
  {
   "cell_type": "code",
   "execution_count": 31,
   "id": "c22157b6",
   "metadata": {},
   "outputs": [
    {
     "name": "stdout",
     "output_type": "stream",
     "text": [
      "    Day  Teams_Starting\n",
      "0     1               6\n",
      "1     2               4\n",
      "2     3               4\n",
      "3     4               0\n",
      "4     5               5\n",
      "5     6               1\n",
      "6     7               3\n",
      "7     8               4\n",
      "8     9               8\n",
      "9    10               3\n",
      "10   11               4\n",
      "11   12               4\n",
      "12   13               4\n",
      "13   14               2\n",
      "14   15               1\n",
      "15   16               3\n",
      "16   17               3\n",
      "17   18               1\n",
      "18   19               2\n",
      "19   20               1\n",
      "20   21               5\n",
      "21   22               5\n",
      "22   23               5\n",
      "23   24               5\n",
      "24   25               2\n",
      "25   26               0\n",
      "26   27               5\n",
      "27   28               5\n",
      "28   29               2\n",
      "29   30               3\n"
     ]
    }
   ],
   "source": [
    "import pandas as pd\n",
    "\n",
    "def count_teams_starting_each_day(schedule_df):\n",
    "    # Initialize a dictionary to hold the count of teams starting work each day\n",
    "    days_count = {day: 0 for day in range(1, PLANNING_HORIZON + 1)}\n",
    "\n",
    "    # Iterate through each row in the DataFrame\n",
    "    for index, row in schedule_df.iterrows():\n",
    "        start_day = row['start_maintenance']\n",
    "        if start_day in days_count:\n",
    "            days_count[start_day] += 1\n",
    "\n",
    "    # Convert the dictionary to a pandas DataFrame for better readability\n",
    "    days_count_df = pd.DataFrame(list(days_count.items()), columns=['Day', 'Teams_Starting'])\n",
    "    \n",
    "    return days_count_df\n",
    "\n",
    "# Example usage\n",
    "# Assume schedule_df is the DataFrame containing the maintenance schedule\n",
    "schedule_df = pd.DataFrame(best_solution)  # best_solution should be a list of dictionaries\n",
    "days_count_df = count_teams_starting_each_day(schedule_df)\n",
    "\n",
    "print(days_count_df)\n"
   ]
  }
 ],
 "metadata": {
  "kernelspec": {
   "display_name": "Python 3 (ipykernel)",
   "language": "python",
   "name": "python3"
  },
  "language_info": {
   "codemirror_mode": {
    "name": "ipython",
    "version": 3
   },
   "file_extension": ".py",
   "mimetype": "text/x-python",
   "name": "python",
   "nbconvert_exporter": "python",
   "pygments_lexer": "ipython3",
   "version": "3.11.5"
  }
 },
 "nbformat": 4,
 "nbformat_minor": 5
}
