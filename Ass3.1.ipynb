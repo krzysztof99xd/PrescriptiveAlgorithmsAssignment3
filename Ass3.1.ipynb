{
 "cells": [
  {
   "cell_type": "code",
   "id": "initial_id",
   "metadata": {
    "collapsed": true,
    "ExecuteTime": {
     "end_time": "2024-05-15T19:26:21.853906Z",
     "start_time": "2024-05-15T19:26:21.746156Z"
    }
   },
   "source": [
    "import os\n",
    "import pandas as pd\n",
    "import numpy as np\n",
    "import random\n",
    "from deap import base, creator, tools, algorithms\n",
    "\n",
    "np.random.seed(42)  # for reproducibility\n",
    "# Get the current working directory\n",
    "current_directory = os.getcwd()\n",
    "\n",
    "# Construct the relative path to prediction RUL file\n",
    "rul_filename = \"RUL_consultancy_predictions_A3-2.csv\"\n",
    "rul_path = os.path.join(current_directory, rul_filename)\n",
    "\n",
    "# Read the CSV file\n",
    "rul_df = pd.read_csv(rul_path, delimiter=';')\n",
    "print(rul_df)\n"
   ],
   "outputs": [
    {
     "name": "stdout",
     "output_type": "stream",
     "text": [
      "    RUL   id\n",
      "0   135    1\n",
      "1   125    2\n",
      "2    63    3\n",
      "3   100    4\n",
      "4   103    5\n",
      "..  ...  ...\n",
      "95  140   96\n",
      "96  109   97\n",
      "97   87   98\n",
      "98  127   99\n",
      "99   24  100\n",
      "\n",
      "[100 rows x 2 columns]\n"
     ]
    }
   ],
   "execution_count": 1
  },
  {
   "metadata": {
    "ExecuteTime": {
     "end_time": "2024-05-15T19:26:22.718260Z",
     "start_time": "2024-05-15T19:26:22.714860Z"
    }
   },
   "cell_type": "code",
   "source": [
    "# Define constants\n",
    "M = len(rul_df) # number of engines\n",
    "G = 4 # Total number of teams (2 type A, 2 type B)\n",
    "T = 30 # Planning horizon in days\n",
    "MAX_DAILY_COST = 250"
   ],
   "id": "ab4ff90333e6a86c",
   "outputs": [],
   "execution_count": 2
  },
  {
   "metadata": {
    "ExecuteTime": {
     "end_time": "2024-05-15T19:26:23.516079Z",
     "start_time": "2024-05-15T19:26:23.511192Z"
    }
   },
   "cell_type": "code",
   "source": [
    "# Define maintenance times for teams A and B\n",
    "maintenance_duration_a = [4 if i < 20 else 3 if 20 <= i < 55 else 2 if 55 <= i < 80 else 8 for i in range(1, M + 1)]\n",
    "maintenance_duration_b = [time_a + 1 if i < 25 else time_a + 2 if 25 <= i < 70 else time_a + 1 for i, time_a in enumerate(maintenance_duration_a, start=1)]\n",
    "\n",
    "\n",
    "# Define engine costs\n",
    "engine_costs = [4 if i < 21 else 3 if 21 <= i < 31 else 2 if 31 <= i < 46 else 5 if 46 <= i < 81 else 6 for i in range(1, M + 1)]\n",
    "\n"
   ],
   "id": "91645329d673a7d1",
   "outputs": [],
   "execution_count": 3
  },
  {
   "metadata": {
    "ExecuteTime": {
     "end_time": "2024-05-15T19:26:24.318211Z",
     "start_time": "2024-05-15T19:26:24.309198Z"
    }
   },
   "cell_type": "code",
   "source": [
    "def generate_random_schedule(T):\n",
    "    individual = []\n",
    "    # Track the availability of each team (A and B) on each day\n",
    "    team_availability = {day: {'A': 0, 'B': 0} for day in range(1, T + 1)}\n",
    "\n",
    "    # Apply filter to  allocate teams to engines that have a predicted safety due date of less than T = 30.\n",
    "\n",
    "    filtered_df = rul_df[rul_df['RUL'] <= T].copy()\n",
    "    engine_ids = list(filtered_df['id'])\n",
    "    random.shuffle(engine_ids)\n",
    "\n",
    "    # print(\"Engine IDs:\", engine_ids)\n",
    "\n",
    "    # Randomly assign teams to engines within the planning horizon\n",
    "    for engine_id in engine_ids:\n",
    "        engine_index = engine_id - 1\n",
    "        team_type = np.random.choice(['A', 'B'])  # Assume team type is A for this example\n",
    "\n",
    "        # Determine maintenance duration based on team type\n",
    "        maintenance_days = maintenance_duration_a[engine_index] if team_type == 'A' else maintenance_duration_b[engine_index]\n",
    "        valid_start_dates = []\n",
    "\n",
    "        # Search for valid start dates with continuous available days for maintenance duration\n",
    "        for start_day in range(1, T - maintenance_days + 2):\n",
    "            is_valid = True\n",
    "            for day in range(start_day, start_day + maintenance_days):\n",
    "                if team_availability[day][team_type] >= 2:  # Check if max team limit is exceeded on any day\n",
    "                    is_valid = False\n",
    "                    break\n",
    "            if is_valid:\n",
    "                valid_start_dates.append(start_day)\n",
    "\n",
    "        if not valid_start_dates:\n",
    "            continue\n",
    "\n",
    "\n",
    "        start_day = np.random.choice(valid_start_dates)\n",
    "        end_day = start_day + maintenance_days - 1\n",
    "\n",
    "        # Update team availability for the selected team and days\n",
    "        for day in range(start_day, end_day + 1):\n",
    "            team_availability[day][team_type] += 1\n",
    "\n",
    "        # Append to individual list\n",
    "        individual.append((engine_index, team_type, start_day))\n",
    "\n",
    "    return individual\n",
    "\n",
    "# Define the problem as a minimization problem\n",
    "creator.create(\"FitnessMin\", base.Fitness, weights=(-1.0,))\n",
    "creator.create(\"Individual\", list, fitness=creator.FitnessMin)\n",
    "# Initialization functions for individual and population.\n",
    "def init_individual(T):\n",
    "    return creator.Individual(generate_random_schedule(T))\n",
    "\n",
    "def init_population(size, T):\n",
    "    return [init_individual(T) for _ in range(size)]"
   ],
   "id": "71caa925d4554793",
   "outputs": [],
   "execution_count": 4
  },
  {
   "metadata": {
    "ExecuteTime": {
     "end_time": "2024-05-15T19:26:26.008803Z",
     "start_time": "2024-05-15T19:26:26.001248Z"
    }
   },
   "cell_type": "code",
   "source": [
    "\n",
    "# Calculates penalty cost per engine\n",
    "def calculate_penalty(engine_index, team_type, start_day,):\n",
    "    RUL = rul_df.loc[engine_index, 'RUL']\n",
    "    safety_due_date = RUL\n",
    "    maintenance_days = maintenance_duration_a[engine_index] if team_type == 'A' else maintenance_duration_b[engine_index]\n",
    "    end_day = start_day + maintenance_days - 1\n",
    "    penalty = 0\n",
    "\n",
    "    if end_day > safety_due_date:\n",
    "        overdue_days = end_day - safety_due_date\n",
    "        penalty = min(MAX_DAILY_COST, engine_costs[engine_index] * overdue_days ** 2)\n",
    "\n",
    "    return penalty\n",
    "\n",
    "# Define the fitness function.\n",
    "def evaluate(individual):\n",
    "    \"\"\"Fitness function for the individual. Returns total penalty cost for the individual\"\"\"\n",
    "    total_penalty = 0\n",
    "    for engine_index, team_type, start_day in individual:\n",
    "        penalty = calculate_penalty(engine_index, team_type, start_day)\n",
    "        total_penalty += penalty\n",
    "\n",
    "    return (total_penalty,)\n",
    "\n",
    "# Check invalid individuals\n",
    "def feasible(individual):\n",
    "    \"\"\"Feasibility function for the individual. Returns True if feasible False\n",
    "    otherwise.\"\"\"\n",
    "    team_availability = {day: {'A': 0, 'B': 0} for day in range(1, T + 1)}\n",
    "    unique_engines = set()\n",
    "    # Constraints:\n",
    "    for engine_index, team_type, start_day in individual:\n",
    "        # An engine can be maintained at most once.\n",
    "        if engine_index in unique_engines:\n",
    "            return False\n",
    "\n",
    "        maintenance_days = maintenance_duration_a[engine_index] if team_type == 'A' else maintenance_duration_b[engine_index]\n",
    "        end_day = start_day + maintenance_days - 1\n",
    "        \n",
    "        # Incomplete schedules are not allowed. \n",
    "        if end_day > T:\n",
    "            return False\n",
    "        \n",
    "        # A team can maintain one engine at a time\n",
    "        for day in range(start_day, end_day + 1):\n",
    "            if team_availability[day][team_type] >= 2:\n",
    "                return False\n",
    "            team_availability[day][team_type] += 1\n",
    "\n",
    "        unique_engines.add(engine_index)\n",
    "\n",
    "    return True\n"
   ],
   "id": "1b7cb2c198ba6179",
   "outputs": [],
   "execution_count": 5
  },
  {
   "metadata": {
    "ExecuteTime": {
     "end_time": "2024-05-15T19:26:27.962522Z",
     "start_time": "2024-05-15T19:26:27.421815Z"
    }
   },
   "cell_type": "code",
   "source": [
    "# Register genetic algorithm operators\n",
    "toolbox = base.Toolbox()\n",
    "toolbox.register(\"individual\", init_individual)\n",
    "toolbox.register(\"population\", init_population)\n",
    "toolbox.register(\"evaluate\", evaluate)\n",
    "toolbox.decorate(\"evaluate\", tools.DeltaPenalty(feasible, 50000))\n",
    "toolbox.register(\"mate\", tools.cxTwoPoint)\n",
    "# toolbox.register(\"mutate\", tools.mutShuffleIndexes(individual, indpb=0.01))\n",
    "toolbox.register(\"select\", tools.selTournament, tournsize=10)\n",
    "\n",
    "# Evolution parameters\n",
    "ngen = 50  # Generations\n",
    "\n",
    "# Create the population\n",
    "pop = toolbox.population(size=1000, T=T)\n",
    "# Hall of Fame and Statistics\n",
    "hof = tools.ParetoFront()\n",
    "stats = tools.Statistics(lambda ind: ind.fitness.values)\n",
    "\n",
    "# Register statistics\n",
    "stats.register(\"avg\", np.mean, axis=0)\n",
    "stats.register(\"std\", np.std, axis=0)\n",
    "stats.register(\"min\", np.min, axis=0)\n",
    "stats.register(\"max\", np.max, axis=0)"
   ],
   "id": "6a4bcbca04d9a0b5",
   "outputs": [],
   "execution_count": 6
  },
  {
   "metadata": {
    "ExecuteTime": {
     "end_time": "2024-05-15T19:26:34.034778Z",
     "start_time": "2024-05-15T19:26:29.101582Z"
    }
   },
   "cell_type": "code",
   "source": [
    "pop, logbook = algorithms.eaSimple(pop, toolbox, cxpb=0.7, mutpb=0.0,\n",
    "                                   ngen=ngen, stats=stats, halloffame=hof)"
   ],
   "id": "3743484c8c138a1",
   "outputs": [
    {
     "name": "stdout",
     "output_type": "stream",
     "text": [
      "gen\tnevals\tavg       \tstd           \tmin   \tmax    \n",
      "0  \t1000  \t[1487.873]\t[338.32395551]\t[315.]\t[2637.]\n",
      "1  \t686   \t[34259.653]\t[22892.92675235]\t[315.]\t[50000.]\n",
      "2  \t668   \t[33026.476]\t[23387.71666182]\t[315.]\t[50000.]\n",
      "3  \t672   \t[30000.172]\t[24241.6802815] \t[315.]\t[50000.]\n",
      "4  \t762   \t[19832.753]\t[24223.16917111]\t[82.] \t[50000.]\n",
      "5  \t702   \t[1854.087] \t[8611.50735443] \t[82.] \t[50000.]\n",
      "6  \t708   \t[3242.704] \t[11707.97900905]\t[82.] \t[50000.]\n",
      "7  \t686   \t[7252.726] \t[17247.49500626]\t[82.] \t[50000.]\n",
      "8  \t678   \t[14625.875]\t[22607.86223439]\t[82.] \t[50000.]\n",
      "9  \t674   \t[282.371]  \t[3150.75248558] \t[82.] \t[50000.]\n",
      "10 \t690   \t[82.]      \t[0.]            \t[82.] \t[82.]   \n",
      "11 \t710   \t[82.]      \t[0.]            \t[82.] \t[82.]   \n",
      "12 \t664   \t[82.]      \t[0.]            \t[82.] \t[82.]   \n",
      "13 \t744   \t[82.]      \t[0.]            \t[82.] \t[82.]   \n",
      "14 \t712   \t[82.]      \t[0.]            \t[82.] \t[82.]   \n",
      "15 \t698   \t[82.]      \t[0.]            \t[82.] \t[82.]   \n",
      "16 \t704   \t[82.]      \t[0.]            \t[82.] \t[82.]   \n",
      "17 \t728   \t[82.]      \t[0.]            \t[82.] \t[82.]   \n",
      "18 \t654   \t[82.]      \t[0.]            \t[82.] \t[82.]   \n",
      "19 \t716   \t[82.]      \t[0.]            \t[82.] \t[82.]   \n",
      "20 \t682   \t[82.]      \t[0.]            \t[82.] \t[82.]   \n",
      "21 \t700   \t[82.]      \t[0.]            \t[82.] \t[82.]   \n",
      "22 \t710   \t[82.]      \t[0.]            \t[82.] \t[82.]   \n",
      "23 \t704   \t[82.]      \t[0.]            \t[82.] \t[82.]   \n",
      "24 \t724   \t[82.]      \t[0.]            \t[82.] \t[82.]   \n",
      "25 \t706   \t[82.]      \t[0.]            \t[82.] \t[82.]   \n",
      "26 \t716   \t[82.]      \t[0.]            \t[82.] \t[82.]   \n",
      "27 \t686   \t[82.]      \t[0.]            \t[82.] \t[82.]   \n",
      "28 \t704   \t[82.]      \t[0.]            \t[82.] \t[82.]   \n",
      "29 \t706   \t[82.]      \t[0.]            \t[82.] \t[82.]   \n",
      "30 \t684   \t[82.]      \t[0.]            \t[82.] \t[82.]   \n",
      "31 \t656   \t[82.]      \t[0.]            \t[82.] \t[82.]   \n",
      "32 \t722   \t[82.]      \t[0.]            \t[82.] \t[82.]   \n",
      "33 \t694   \t[82.]      \t[0.]            \t[82.] \t[82.]   \n",
      "34 \t700   \t[82.]      \t[0.]            \t[82.] \t[82.]   \n",
      "35 \t656   \t[82.]      \t[0.]            \t[82.] \t[82.]   \n",
      "36 \t700   \t[82.]      \t[0.]            \t[82.] \t[82.]   \n",
      "37 \t692   \t[82.]      \t[0.]            \t[82.] \t[82.]   \n",
      "38 \t712   \t[82.]      \t[0.]            \t[82.] \t[82.]   \n",
      "39 \t704   \t[82.]      \t[0.]            \t[82.] \t[82.]   \n",
      "40 \t684   \t[82.]      \t[0.]            \t[82.] \t[82.]   \n",
      "41 \t728   \t[82.]      \t[0.]            \t[82.] \t[82.]   \n",
      "42 \t672   \t[82.]      \t[0.]            \t[82.] \t[82.]   \n",
      "43 \t664   \t[82.]      \t[0.]            \t[82.] \t[82.]   \n",
      "44 \t690   \t[82.]      \t[0.]            \t[82.] \t[82.]   \n",
      "45 \t712   \t[82.]      \t[0.]            \t[82.] \t[82.]   \n",
      "46 \t668   \t[82.]      \t[0.]            \t[82.] \t[82.]   \n",
      "47 \t720   \t[82.]      \t[0.]            \t[82.] \t[82.]   \n",
      "48 \t718   \t[82.]      \t[0.]            \t[82.] \t[82.]   \n",
      "49 \t698   \t[82.]      \t[0.]            \t[82.] \t[82.]   \n",
      "50 \t714   \t[82.]      \t[0.]            \t[82.] \t[82.]   \n"
     ]
    }
   ],
   "execution_count": 7
  },
  {
   "metadata": {
    "ExecuteTime": {
     "end_time": "2024-05-15T19:58:12.476731Z",
     "start_time": "2024-05-15T19:58:12.460351Z"
    }
   },
   "cell_type": "code",
   "source": [
    "# Best Solution\n",
    "best_individual = tools.selBest(pop, 1)[0]\n",
    "\n",
    "def convert_best_individual_to_schedule(individual):\n",
    "    schedule = []\n",
    "    \n",
    "    for engine_index, team_type, start_day in individual:\n",
    "        engine_id = engine_index + 1\n",
    "        maintenance_days = maintenance_duration_a[engine_index] if team_type == 'A' else maintenance_duration_b[engine_index]\n",
    "        end_day = start_day + maintenance_days - 1\n",
    "        RUL = rul_df.loc[engine_index, 'RUL']\n",
    "        penalty_cost = calculate_penalty(engine_index, team_type, start_day)\n",
    "        total_penalty_cost = evaluate(individual)[0]\n",
    "        schedule.append({\n",
    "            'Predicted_RUL': RUL,\n",
    "            'Engine_id': engine_id,\n",
    "            'Team': team_type, \n",
    "            'Start_date': start_day,\n",
    "            'End_date': end_day,\n",
    "            'Penalty_cost': penalty_cost,\n",
    "            'Total_penalty_cost': total_penalty_cost\n",
    "        })\n",
    "    \n",
    "    \n",
    "    return pd.DataFrame(schedule)\n",
    "    \n",
    "\n",
    "\n",
    "schedule_df = convert_best_individual_to_schedule(best_individual)\n",
    "schedule_df.to_csv('best_individual.csv', index=False)\n",
    "\n",
    "print(schedule_df)\n"
   ],
   "id": "6fccede2b1ee9270",
   "outputs": [
    {
     "name": "stdout",
     "output_type": "stream",
     "text": [
      "    Predicted_RUL  Engine_id Team  Start_date  End_date  Penalty_cost  \\\n",
      "0              24        100    B           4        12             0   \n",
      "1              29         91    B          16        24             0   \n",
      "2              26         24    A          13        15             0   \n",
      "3              24         64    B          19        22             0   \n",
      "4              27         77    B           8        10             0   \n",
      "5              18         66    A          17        18             0   \n",
      "6              24         36    A          19        21             0   \n",
      "7              21         37    A          24        26            50   \n",
      "8              28         90    A          21        28             0   \n",
      "9              13         68    A           2         3             0   \n",
      "10             24         92    A           8        15             0   \n",
      "11             10         20    A           7         9             0   \n",
      "12             23         41    B          23        27            32   \n",
      "13             29         40    A          10        12             0   \n",
      "14             14         31    A           3         5             0   \n",
      "\n",
      "    Total_penalty_cost  \n",
      "0                   82  \n",
      "1                   82  \n",
      "2                   82  \n",
      "3                   82  \n",
      "4                   82  \n",
      "5                   82  \n",
      "6                   82  \n",
      "7                   82  \n",
      "8                   82  \n",
      "9                   82  \n",
      "10                  82  \n",
      "11                  82  \n",
      "12                  82  \n",
      "13                  82  \n",
      "14                  82  \n"
     ]
    }
   ],
   "execution_count": 22
  },
  {
   "metadata": {
    "ExecuteTime": {
     "end_time": "2024-05-15T19:56:21.201084Z",
     "start_time": "2024-05-15T19:56:21.104054Z"
    }
   },
   "cell_type": "code",
   "source": [
    "import matplotlib.pyplot as plt\n",
    "import seaborn as sns\n",
    "\n",
    "# History AVG\n",
    "plt.figure(figsize=(10,8))\n",
    "front = np.array([(c['gen'], c['avg'][0]) for c in logbook])\n",
    "plt.plot(front[:,0][1:-1], front[:,1][1:-1], \"-bo\")\n",
    "plt.axis(\"tight\")\n",
    "plt.show()"
   ],
   "id": "459b76beb25bcf0",
   "outputs": [
    {
     "data": {
      "text/plain": [
       "<Figure size 1000x800 with 1 Axes>"
      ],
      "image/png": "[encoded data removed]"
     },
     "metadata": {},
     "output_type": "display_data"
    }
   ],
   "execution_count": 20
  },
  {
   "metadata": {
    "ExecuteTime": {
     "end_time": "2024-05-15T19:58:45.509252Z",
     "start_time": "2024-05-15T19:58:45.502560Z"
    }
   },
   "cell_type": "code",
   "source": [
    "import pandas as pd\n",
    "\n",
    "def count_teams_starting_each_day(schedule_df):\n",
    "    # Initialize a dictionary to hold the count of teams starting work each day\n",
    "    days_count = {day: 0 for day in range(1, T + 1)}\n",
    "\n",
    "    # Iterate through each row in the DataFrame\n",
    "    for index, row in schedule_df.iterrows():\n",
    "        start_day = row['Start_date']\n",
    "        if start_day in days_count:\n",
    "            days_count[start_day] += 1\n",
    "\n",
    "    # Convert the dictionary to a pandas DataFrame for better readability\n",
    "    days_count_df = pd.DataFrame(list(days_count.items()), columns=['Day', 'Teams_Starting'])\n",
    "    \n",
    "    return days_count_df\n",
    "\n",
    "# Example usage\n",
    "# Assume schedule_df is the DataFrame containing the maintenance schedule\n",
    "days_count_df = count_teams_starting_each_day(schedule_df)\n",
    "\n",
    "print(days_count_df)\n"
   ],
   "id": "4a5271c0d81bd95c",
   "outputs": [
    {
     "name": "stdout",
     "output_type": "stream",
     "text": [
      "    Day  Teams_Starting\n",
      "0     1               0\n",
      "1     2               1\n",
      "2     3               1\n",
      "3     4               1\n",
      "4     5               0\n",
      "5     6               0\n",
      "6     7               1\n",
      "7     8               2\n",
      "8     9               0\n",
      "9    10               1\n",
      "10   11               0\n",
      "11   12               0\n",
      "12   13               1\n",
      "13   14               0\n",
      "14   15               0\n",
      "15   16               1\n",
      "16   17               1\n",
      "17   18               0\n",
      "18   19               2\n",
      "19   20               0\n",
      "20   21               1\n",
      "21   22               0\n",
      "22   23               1\n",
      "23   24               1\n",
      "24   25               0\n",
      "25   26               0\n",
      "26   27               0\n",
      "27   28               0\n",
      "28   29               0\n",
      "29   30               0\n"
     ]
    }
   ],
   "execution_count": 24
  },
  {
   "metadata": {},
   "cell_type": "code",
   "source": "",
   "id": "940a15c62fcf5502",
   "outputs": [],
   "execution_count": null
  }
 ],
 "metadata": {
  "kernelspec": {
   "display_name": "Python 3",
   "language": "python",
   "name": "python3"
  },
  "language_info": {
   "codemirror_mode": {
    "name": "ipython",
    "version": 2
   },
   "file_extension": ".py",
   "mimetype": "text/x-python",
   "name": "python",
   "nbconvert_exporter": "python",
   "pygments_lexer": "ipython2",
   "version": "2.7.6"
  }
 },
 "nbformat": 4,
 "nbformat_minor": 5
}
