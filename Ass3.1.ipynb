{
 "cells": [
  {
   "cell_type": "code",
   "id": "initial_id",
   "metadata": {
    "collapsed": true,
    "ExecuteTime": {
     "end_time": "2024-05-15T15:55:15.650093Z",
     "start_time": "2024-05-15T15:55:15.631097Z"
    }
   },
   "source": [
    "import os\n",
    "import pandas as pd\n",
    "import numpy as np\n",
    "import random\n",
    "from deap import base, creator, tools, algorithms\n",
    "\n",
    "np.random.seed(42)  # for reproducibility\n",
    "# Get the current working directory\n",
    "current_directory = os.getcwd()\n",
    "\n",
    "# Construct the relative path to prediction RUL file\n",
    "rul_filename = \"RUL_consultancy_predictions_A3-2.csv\"\n",
    "rul_path = os.path.join(current_directory, rul_filename)\n",
    "\n",
    "# Read the CSV file\n",
    "rul_df = pd.read_csv(rul_path, delimiter=';')\n",
    "print(rul_df)\n"
   ],
   "outputs": [
    {
     "name": "stdout",
     "output_type": "stream",
     "text": [
      "    RUL   id\n",
      "0   135    1\n",
      "1   125    2\n",
      "2    63    3\n",
      "3   100    4\n",
      "4   103    5\n",
      "..  ...  ...\n",
      "95  140   96\n",
      "96  109   97\n",
      "97   87   98\n",
      "98  127   99\n",
      "99   24  100\n",
      "\n",
      "[100 rows x 2 columns]\n"
     ]
    }
   ],
   "execution_count": 1
  },
  {
   "metadata": {
    "ExecuteTime": {
     "end_time": "2024-05-15T15:55:16.343216Z",
     "start_time": "2024-05-15T15:55:16.341018Z"
    }
   },
   "cell_type": "code",
   "source": [
    "# Define constants\n",
    "M = len(rul_df) # number of engines\n",
    "G = 4 # Total number of teams (2 type A, 2 type B)\n",
    "T = 30 # Planning horizon in days\n",
    "MAX_DAILY_COST = 250"
   ],
   "id": "ab4ff90333e6a86c",
   "outputs": [],
   "execution_count": 2
  },
  {
   "metadata": {
    "ExecuteTime": {
     "end_time": "2024-05-15T15:55:17.197306Z",
     "start_time": "2024-05-15T15:55:17.192712Z"
    }
   },
   "cell_type": "code",
   "source": [
    "# Define maintenance times for teams A and B\n",
    "maintenance_duration_a = [4 if i < 20 else 3 if 20 <= i < 55 else 2 if 55 <= i < 80 else 8 for i in range(1, M + 1)]\n",
    "maintenance_duration_b = [time_a + 1 if i < 25 else time_a + 2 if 25 <= i < 70 else time_a + 1 for i, time_a in enumerate(maintenance_duration_a, start=1)]\n",
    "\n",
    "\n",
    "# Define engine costs\n",
    "engine_costs = [4 if i < 21 else 3 if 21 <= i < 31 else 2 if 31 <= i < 46 else 5 if 46 <= i < 81 else 6 for i in range(1, M + 1)]\n",
    "\n"
   ],
   "id": "91645329d673a7d1",
   "outputs": [],
   "execution_count": 3
  },
  {
   "metadata": {
    "ExecuteTime": {
     "end_time": "2024-05-15T15:56:58.513400Z",
     "start_time": "2024-05-15T15:56:58.501909Z"
    }
   },
   "cell_type": "code",
   "source": [
    "def generate_random_schedule(T):\n",
    "    individual = []\n",
    "    # Track the availability of each team (A and B) on each day\n",
    "    team_availability = {day: {'A': 0, 'B': 0} for day in range(1, T + 1)}\n",
    "    \n",
    "    # Apply filter to  allocate teams to engines that have a predicted safety due date of less than T = 30.\n",
    "\n",
    "    filtered_df = rul_df[rul_df['RUL'] <= T].copy()\n",
    "    engine_ids = list(filtered_df['id'])\n",
    "    random.shuffle(engine_ids)\n",
    "    \n",
    "    # print(\"Engine IDs:\", engine_ids)\n",
    "    \n",
    "    # Randomly assign teams to engines within the planning horizon\n",
    "    for engine_id in engine_ids:\n",
    "        engine_index = engine_id - 1\n",
    "        # print(\"\\nProcessing Engine ID:\", engine_id)\n",
    "    \n",
    "        team_type = np.random.choice(['A', 'B'])  # Assume team type is A for this example\n",
    "        # print(\"Selected Team Type:\", team_type)\n",
    "    \n",
    "        # Determine maintenance duration based on team type\n",
    "        maintenance_days = maintenance_duration_a[engine_index] if team_type == 'A' else maintenance_duration_b[engine_index]\n",
    "        # print(\"Maintenance Days Required:\", maintenance_days)\n",
    "    \n",
    "        valid_start_dates = []\n",
    "\n",
    "        # Search for valid start dates with continuous available days for maintenance duration\n",
    "        for start_day in range(1, T - maintenance_days + 2):\n",
    "            is_valid = True\n",
    "            for day in range(start_day, start_day + maintenance_days):\n",
    "                if team_availability[day][team_type] >= 2:  # Check if max team limit is exceeded on any day\n",
    "                    is_valid = False\n",
    "                    break\n",
    "            if is_valid:\n",
    "                valid_start_dates.append(start_day)\n",
    "     \n",
    "        # print(\"Team Availability:\", team_availability)\n",
    "        # print(\"Valid Start Dates:\", valid_start_dates)\n",
    "    \n",
    "        \n",
    "        if not valid_start_dates:\n",
    "            # print(\"No valid start date found. Skipping this engine.\")\n",
    "            continue\n",
    "           \n",
    "                    \n",
    "        start_day = np.random.choice(valid_start_dates)\n",
    "        end_day = start_day + maintenance_days - 1\n",
    "    \n",
    "        # print(\"Selected Start Date:\", start_date)\n",
    "        # print(\"Selected End Date:\", end_date)\n",
    "    \n",
    "        # Update team availability for the selected team and days\n",
    "        for day in range(start_day, end_day + 1):\n",
    "            team_availability[day][team_type] += 1\n",
    "    \n",
    "        # print(\"Team Availability Updated:\", team_availability)\n",
    "    \n",
    "    \n",
    "        # RUL = filtered_df.loc[filtered_df['id'] == engine_id, 'RUL'].values[0]\n",
    "        # safety_due_date = RUL\n",
    "        # # print(\"Safety Due Date:\", safety_due_date)\n",
    "        # \n",
    "        # \n",
    "        # \n",
    "        # if end_date > safety_due_date:\n",
    "        #     penalty_cost_value = penalty_cost(engine_costs[engine_id - 1], end_date - safety_due_date)\n",
    "        # else:\n",
    "        #     penalty_cost_value = 0\n",
    "    \n",
    "        # print(\"Penalty Cost Value:\", penalty_cost_value)\n",
    "    \n",
    "        # Append to individual list\n",
    "        individual.append((engine_index, team_type, start_day))\n",
    "        # individual.append({\n",
    "        #     'Engine_id': engine_id,\n",
    "        #     'Team': team_type, \n",
    "        #     'Safety_due_date': safety_due_date,\n",
    "        #     'Start_date': start_date,\n",
    "        #     'End_date': end_date,\n",
    "        #     'Penalty_cost': penalty_cost_value\n",
    "        # })\n",
    "    return individual\n",
    "\n",
    "# Define the problem as a minimization problem\n",
    "creator.create(\"FitnessMin\", base.Fitness, weights=(-1.0,))\n",
    "creator.create(\"Individual\", list, fitness=creator.FitnessMin)\n",
    "# Initialization functions for individual and population.\n",
    "def init_individual(T):\n",
    "    return creator.Individual(generate_random_schedule(T))\n",
    "\n",
    "def init_population(size, T):\n",
    "    return [init_individual(T) for _ in range(size)]"
   ],
   "id": "71caa925d4554793",
   "outputs": [],
   "execution_count": 4
  },
  {
   "metadata": {
    "ExecuteTime": {
     "end_time": "2024-05-15T15:57:03.875761Z",
     "start_time": "2024-05-15T15:57:03.870696Z"
    }
   },
   "cell_type": "code",
   "source": [
    "# # Define the problem as a minimization problem\n",
    "# creator.create(\"FitnessMin\", base.Fitness, weights=(-1.0,))\n",
    "# creator.create(\"Individual\", list, fitness=creator.FitnessMin)\n",
    "\n",
    "# filtered_df = rul_df[rul_df['RUL'] <= T].copy()\n",
    "# # Initialization functions for individual and population.\n",
    "# def init_individual(T):\n",
    "#     ''' Assigns teams to engines randomly '''\n",
    "#     return creator.Individual([(engine_index, random.choice(['A', 'B']), random.choice(range(1, T+1))) for engine_index in filtered_df.index])\n",
    "# \n",
    "# def init_population(size, T):\n",
    "#     return [init_individual(T) for _ in range(size)]\n",
    "\n",
    "\n",
    "# Define the fitness function\n",
    "def calculate_penalty(engine_index, start_day, team_type):\n",
    "    RUL = rul_df.loc[engine_index, 'RUL']\n",
    "    safety_due_date = RUL\n",
    "    maintenance_days = maintenance_duration_a[engine_index] if team_type == 'A' else maintenance_duration_b[engine_index]\n",
    "\n",
    "    end_day = start_day + maintenance_days - 1\n",
    "    penalty = 0\n",
    "\n",
    "    if end_day> safety_due_date:\n",
    "        overdue_days = end_day - safety_due_date\n",
    "        penalty = min(MAX_DAILY_COST, engine_costs[engine_index] * overdue_days ** 2)\n",
    "\n",
    "    return penalty\n",
    "\n",
    "    \n",
    "def evaluate(individual):\n",
    "    total_penalty = 0\n",
    "    for engine_index, team_type, start_day in individual:\n",
    "        penalty = calculate_penalty(engine_index, start_day, team_type)\n",
    "        total_penalty += penalty\n",
    "\n",
    "    return (total_penalty,)\n",
    "\n",
    "\n",
    "    \n",
    "def feasible(individual):\n",
    "    \"\"\"Feasibility function for the individual. Returns True if feasible False\n",
    "    otherwise.\"\"\"\n",
    "    team_availability = {day: {'A': 0, 'B': 0} for day in range(1, T + 1)}\n",
    "    unique_engines = set()\n",
    "    # Constraints\n",
    "    for engine_index, team_type, start_day in individual:\n",
    "        # Every engine can be maintained at most once.\n",
    "        if engine_index in unique_engines:\n",
    "            return False\n",
    "\n",
    "        maintenance_days = maintenance_duration_a[engine_index] if team_type == 'A' else maintenance_duration_b[engine_index]\n",
    "        end_day = start_day + maintenance_days - 1\n",
    "        # Incomplete schedules are not allowed. \n",
    "        if end_day > T:\n",
    "            return False\n",
    "        # A team can maintain one engine at a time\n",
    "        for day in range(start_day, end_day + 1):\n",
    "            if team_availability[day][team_type] >= 2:\n",
    "                return False\n",
    "            team_availability[day][team_type] += 1\n",
    "\n",
    "        unique_engines.add(engine_index)\n",
    "\n",
    "    return True\n"
   ],
   "id": "1b7cb2c198ba6179",
   "outputs": [],
   "execution_count": 5
  },
  {
   "metadata": {
    "ExecuteTime": {
     "end_time": "2024-05-15T16:18:13.037111Z",
     "start_time": "2024-05-15T16:18:12.426804Z"
    }
   },
   "cell_type": "code",
   "source": [
    "# Register genetic algorithm operators\n",
    "toolbox = base.Toolbox()\n",
    "toolbox.register(\"individual\", init_individual)\n",
    "toolbox.register(\"population\", init_population)\n",
    "toolbox.register(\"evaluate\", evaluate)\n",
    "toolbox.decorate(\"evaluate\", tools.DeltaPenalty(feasible, 50000))\n",
    "toolbox.register(\"mate\", tools.cxTwoPoint)\n",
    "# toolbox.register(\"mutate\", tools.mutShuffleIndexes(individual, indpb=0.01))\n",
    "toolbox.register(\"select\", tools.selTournament, tournsize=10)\n",
    "\n",
    "# Evolution parameters\n",
    "ngen = 50  # Generations\n",
    "\n",
    "# Create the population\n",
    "pop = toolbox.population(size=1000, T=T)\n",
    "# Hall of Fame and Statistics\n",
    "hof = tools.ParetoFront()\n",
    "stats = tools.Statistics(lambda ind: ind.fitness.values)\n",
    "\n",
    "# Register statistics\n",
    "stats.register(\"avg\", np.mean, axis=0)\n",
    "stats.register(\"std\", np.std, axis=0)\n",
    "stats.register(\"min\", np.min, axis=0)\n",
    "stats.register(\"max\", np.max, axis=0)"
   ],
   "id": "6a4bcbca04d9a0b5",
   "outputs": [],
   "execution_count": 28
  },
  {
   "metadata": {
    "ExecuteTime": {
     "end_time": "2024-05-15T16:18:19.425272Z",
     "start_time": "2024-05-15T16:18:13.827662Z"
    }
   },
   "cell_type": "code",
   "source": [
    "pop, logbook = algorithms.eaSimple(pop, toolbox, cxpb=0.7, mutpb=0.0,\n",
    "                                   ngen=ngen, stats=stats, halloffame=hof)"
   ],
   "id": "3743484c8c138a1",
   "outputs": [
    {
     "name": "stdout",
     "output_type": "stream",
     "text": [
      "gen\tnevals\tavg      \tstd           \tmin   \tmax    \n",
      "0  \t1000  \t[1468.67]\t[333.93814263]\t[488.]\t[2715.]\n",
      "1  \t692   \t[34496.705]\t[22809.35370483]\t[488.]\t[50000.]\n",
      "2  \t710   \t[35526.531]\t[22428.69881382]\t[476.]\t[50000.]\n",
      "3  \t694   \t[32433.41] \t[23626.89689819]\t[466.]\t[50000.]\n",
      "4  \t710   \t[29043.2]  \t[24426.09424312]\t[466.]\t[50000.]\n",
      "5  \t704   \t[13830.753]\t[21941.03362182]\t[466.]\t[50000.]\n",
      "6  \t700   \t[13910.694]\t[22003.89736393]\t[466.]\t[50000.]\n",
      "7  \t686   \t[15628.716]\t[22823.21212063]\t[458.]\t[50000.]\n",
      "8  \t704   \t[7203.086] \t[16979.50561496]\t[458.]\t[50000.]\n",
      "9  \t700   \t[465.568]  \t[1.80814159]    \t[458.]\t[466.]  \n",
      "10 \t666   \t[462.872]  \t[3.90379508]    \t[458.]\t[466.]  \n",
      "11 \t700   \t[458.048]  \t[0.61781551]    \t[458.]\t[466.]  \n",
      "12 \t712   \t[458.]     \t[0.]            \t[458.]\t[458.]  \n",
      "13 \t694   \t[458.]     \t[0.]            \t[458.]\t[458.]  \n",
      "14 \t702   \t[458.]     \t[0.]            \t[458.]\t[458.]  \n",
      "15 \t662   \t[458.]     \t[0.]            \t[458.]\t[458.]  \n",
      "16 \t684   \t[458.]     \t[0.]            \t[458.]\t[458.]  \n",
      "17 \t658   \t[458.]     \t[0.]            \t[458.]\t[458.]  \n",
      "18 \t676   \t[458.]     \t[0.]            \t[458.]\t[458.]  \n",
      "19 \t694   \t[458.]     \t[0.]            \t[458.]\t[458.]  \n",
      "20 \t710   \t[458.]     \t[0.]            \t[458.]\t[458.]  \n",
      "21 \t694   \t[458.]     \t[0.]            \t[458.]\t[458.]  \n",
      "22 \t740   \t[458.]     \t[0.]            \t[458.]\t[458.]  \n",
      "23 \t688   \t[458.]     \t[0.]            \t[458.]\t[458.]  \n",
      "24 \t682   \t[458.]     \t[0.]            \t[458.]\t[458.]  \n",
      "25 \t728   \t[458.]     \t[0.]            \t[458.]\t[458.]  \n",
      "26 \t730   \t[458.]     \t[0.]            \t[458.]\t[458.]  \n",
      "27 \t694   \t[458.]     \t[0.]            \t[458.]\t[458.]  \n",
      "28 \t730   \t[458.]     \t[0.]            \t[458.]\t[458.]  \n",
      "29 \t718   \t[458.]     \t[0.]            \t[458.]\t[458.]  \n",
      "30 \t662   \t[458.]     \t[0.]            \t[458.]\t[458.]  \n",
      "31 \t718   \t[458.]     \t[0.]            \t[458.]\t[458.]  \n",
      "32 \t684   \t[458.]     \t[0.]            \t[458.]\t[458.]  \n",
      "33 \t714   \t[458.]     \t[0.]            \t[458.]\t[458.]  \n",
      "34 \t700   \t[458.]     \t[0.]            \t[458.]\t[458.]  \n",
      "35 \t718   \t[458.]     \t[0.]            \t[458.]\t[458.]  \n",
      "36 \t692   \t[458.]     \t[0.]            \t[458.]\t[458.]  \n",
      "37 \t724   \t[458.]     \t[0.]            \t[458.]\t[458.]  \n",
      "38 \t724   \t[458.]     \t[0.]            \t[458.]\t[458.]  \n",
      "39 \t668   \t[458.]     \t[0.]            \t[458.]\t[458.]  \n",
      "40 \t684   \t[458.]     \t[0.]            \t[458.]\t[458.]  \n",
      "41 \t700   \t[458.]     \t[0.]            \t[458.]\t[458.]  \n",
      "42 \t664   \t[458.]     \t[0.]            \t[458.]\t[458.]  \n",
      "43 \t702   \t[458.]     \t[0.]            \t[458.]\t[458.]  \n",
      "44 \t706   \t[458.]     \t[0.]            \t[458.]\t[458.]  \n",
      "45 \t684   \t[458.]     \t[0.]            \t[458.]\t[458.]  \n",
      "46 \t682   \t[458.]     \t[0.]            \t[458.]\t[458.]  \n",
      "47 \t684   \t[458.]     \t[0.]            \t[458.]\t[458.]  \n",
      "48 \t694   \t[458.]     \t[0.]            \t[458.]\t[458.]  \n",
      "49 \t700   \t[458.]     \t[0.]            \t[458.]\t[458.]  \n",
      "50 \t670   \t[458.]     \t[0.]            \t[458.]\t[458.]  \n"
     ]
    }
   ],
   "execution_count": 29
  },
  {
   "metadata": {
    "ExecuteTime": {
     "end_time": "2024-05-15T16:18:20.984780Z",
     "start_time": "2024-05-15T16:18:20.972155Z"
    }
   },
   "cell_type": "code",
   "source": [
    "# Best Solution\n",
    "best_solution = tools.selBest(pop, 1)[0]\n",
    "print(\"\")\n",
    "# print(best_solution)\n",
    "print(\"[{}] best_score: {}\".format(logbook[-1]['gen'], logbook[-1]['min'][0]))\n",
    "\n",
    "# Function to save best individual to CSV\n",
    "def save_best_individual_to_csv(best_individual, filename):\n",
    "    # Convert the list of dictionaries to a DataFrame\n",
    "    df = pd.DataFrame(best_individual)\n",
    "    print(\"TO CSV\")\n",
    "    print(df)\n",
    "    # Save the DataFrame to a CSV file\n",
    "#     df.to_csv(filename, index=False)\n",
    "#     print(f\"Best individual saved to {filename}\")\n",
    "\n",
    "# Save the best solution to a CSV file\n",
    "save_best_individual_to_csv(best_solution, 'best_individual.csv')\n"
   ],
   "id": "6fccede2b1ee9270",
   "outputs": [
    {
     "name": "stdout",
     "output_type": "stream",
     "text": [
      "\n",
      "[50] best_score: 458.0\n",
      "TO CSV\n",
      "     0  1   2\n",
      "0   40  B  11\n",
      "1   34  A  10\n",
      "2   81  A  20\n",
      "3   91  B  17\n",
      "4   90  B   2\n",
      "5   55  B  18\n",
      "6   89  B  22\n",
      "7   35  A   9\n",
      "8   80  B   2\n",
      "9   39  A  14\n",
      "10  23  A  18\n",
      "11  65  A  12\n",
      "12  76  B  26\n",
      "13  41  A   6\n",
      "14  36  A  15\n"
     ]
    }
   ],
   "execution_count": 30
  },
  {
   "metadata": {
    "ExecuteTime": {
     "end_time": "2024-05-15T16:18:21.827015Z",
     "start_time": "2024-05-15T16:18:21.730859Z"
    }
   },
   "cell_type": "code",
   "source": [
    "import matplotlib.pyplot as plt\n",
    "import seaborn as sns\n",
    "\n",
    "# History AVG\n",
    "plt.figure(figsize=(10,8))\n",
    "front = np.array([(c['gen'], c['avg'][0]) for c in logbook])\n",
    "plt.plot(front[:,0][1:-1], front[:,1][1:-1], \"-bo\", c=\"b\")\n",
    "plt.axis(\"tight\")\n",
    "plt.show()"
   ],
   "id": "459b76beb25bcf0",
   "outputs": [
    {
     "name": "stderr",
     "output_type": "stream",
     "text": [
      "/var/folders/cl/tc2bm4kj1zj4_rj22f8cwb400000gn/T/ipykernel_88641/3325246438.py:7: UserWarning: color is redundantly defined by the 'color' keyword argument and the fmt string \"-bo\" (-> color='b'). The keyword argument will take precedence.\n",
      "  plt.plot(front[:,0][1:-1], front[:,1][1:-1], \"-bo\", c=\"b\")\n"
     ]
    },
    {
     "data": {
      "text/plain": [
       "<Figure size 1000x800 with 1 Axes>"
      ],
      "image/png": "[encoded data removed]"
     },
     "metadata": {},
     "output_type": "display_data"
    }
   ],
   "execution_count": 31
  },
  {
   "metadata": {
    "ExecuteTime": {
     "end_time": "2024-05-15T16:05:37.805105Z",
     "start_time": "2024-05-15T16:05:37.686256Z"
    }
   },
   "cell_type": "code",
   "source": [
    "import pandas as pd\n",
    "\n",
    "def count_teams_starting_each_day(schedule_df):\n",
    "    # Initialize a dictionary to hold the count of teams starting work each day\n",
    "    days_count = {day: 0 for day in range(1, T + 1)}\n",
    "\n",
    "    # Iterate through each row in the DataFrame\n",
    "    for index, row in schedule_df.iterrows():\n",
    "        start_day = row['start_maintenance']\n",
    "        if start_day in days_count:\n",
    "            days_count[start_day] += 1\n",
    "\n",
    "    # Convert the dictionary to a pandas DataFrame for better readability\n",
    "    days_count_df = pd.DataFrame(list(days_count.items()), columns=['Day', 'Teams_Starting'])\n",
    "    \n",
    "    return days_count_df\n",
    "\n",
    "# Example usage\n",
    "# Assume schedule_df is the DataFrame containing the maintenance schedule\n",
    "schedule_df = pd.DataFrame(best_solution)  # best_solution should be a list of dictionaries\n",
    "days_count_df = count_teams_starting_each_day(schedule_df)\n",
    "\n",
    "print(days_count_df)\n"
   ],
   "id": "4a5271c0d81bd95c",
   "outputs": [
    {
     "ename": "KeyError",
     "evalue": "'start_maintenance'",
     "output_type": "error",
     "traceback": [
      "\u001B[0;31m---------------------------------------------------------------------------\u001B[0m",
      "\u001B[0;31mKeyError\u001B[0m                                  Traceback (most recent call last)",
      "Cell \u001B[0;32mIn[19], line 21\u001B[0m\n\u001B[1;32m     18\u001B[0m \u001B[38;5;66;03m# Example usage\u001B[39;00m\n\u001B[1;32m     19\u001B[0m \u001B[38;5;66;03m# Assume schedule_df is the DataFrame containing the maintenance schedule\u001B[39;00m\n\u001B[1;32m     20\u001B[0m schedule_df \u001B[38;5;241m=\u001B[39m pd\u001B[38;5;241m.\u001B[39mDataFrame(best_solution)  \u001B[38;5;66;03m# best_solution should be a list of dictionaries\u001B[39;00m\n\u001B[0;32m---> 21\u001B[0m days_count_df \u001B[38;5;241m=\u001B[39m \u001B[43mcount_teams_starting_each_day\u001B[49m\u001B[43m(\u001B[49m\u001B[43mschedule_df\u001B[49m\u001B[43m)\u001B[49m\n\u001B[1;32m     23\u001B[0m \u001B[38;5;28mprint\u001B[39m(days_count_df)\n",
      "Cell \u001B[0;32mIn[19], line 9\u001B[0m, in \u001B[0;36mcount_teams_starting_each_day\u001B[0;34m(schedule_df)\u001B[0m\n\u001B[1;32m      7\u001B[0m \u001B[38;5;66;03m# Iterate through each row in the DataFrame\u001B[39;00m\n\u001B[1;32m      8\u001B[0m \u001B[38;5;28;01mfor\u001B[39;00m index, row \u001B[38;5;129;01min\u001B[39;00m schedule_df\u001B[38;5;241m.\u001B[39miterrows():\n\u001B[0;32m----> 9\u001B[0m     start_day \u001B[38;5;241m=\u001B[39m \u001B[43mrow\u001B[49m\u001B[43m[\u001B[49m\u001B[38;5;124;43m'\u001B[39;49m\u001B[38;5;124;43mstart_maintenance\u001B[39;49m\u001B[38;5;124;43m'\u001B[39;49m\u001B[43m]\u001B[49m\n\u001B[1;32m     10\u001B[0m     \u001B[38;5;28;01mif\u001B[39;00m start_day \u001B[38;5;129;01min\u001B[39;00m days_count:\n\u001B[1;32m     11\u001B[0m         days_count[start_day] \u001B[38;5;241m+\u001B[39m\u001B[38;5;241m=\u001B[39m \u001B[38;5;241m1\u001B[39m\n",
      "File \u001B[0;32m~/miniconda3/envs/JADS-PresAlgo/lib/python3.11/site-packages/pandas/core/series.py:1040\u001B[0m, in \u001B[0;36mSeries.__getitem__\u001B[0;34m(self, key)\u001B[0m\n\u001B[1;32m   1037\u001B[0m     \u001B[38;5;28;01mreturn\u001B[39;00m \u001B[38;5;28mself\u001B[39m\u001B[38;5;241m.\u001B[39m_values[key]\n\u001B[1;32m   1039\u001B[0m \u001B[38;5;28;01melif\u001B[39;00m key_is_scalar:\n\u001B[0;32m-> 1040\u001B[0m     \u001B[38;5;28;01mreturn\u001B[39;00m \u001B[38;5;28;43mself\u001B[39;49m\u001B[38;5;241;43m.\u001B[39;49m\u001B[43m_get_value\u001B[49m\u001B[43m(\u001B[49m\u001B[43mkey\u001B[49m\u001B[43m)\u001B[49m\n\u001B[1;32m   1042\u001B[0m \u001B[38;5;66;03m# Convert generator to list before going through hashable part\u001B[39;00m\n\u001B[1;32m   1043\u001B[0m \u001B[38;5;66;03m# (We will iterate through the generator there to check for slices)\u001B[39;00m\n\u001B[1;32m   1044\u001B[0m \u001B[38;5;28;01mif\u001B[39;00m is_iterator(key):\n",
      "File \u001B[0;32m~/miniconda3/envs/JADS-PresAlgo/lib/python3.11/site-packages/pandas/core/series.py:1156\u001B[0m, in \u001B[0;36mSeries._get_value\u001B[0;34m(self, label, takeable)\u001B[0m\n\u001B[1;32m   1153\u001B[0m     \u001B[38;5;28;01mreturn\u001B[39;00m \u001B[38;5;28mself\u001B[39m\u001B[38;5;241m.\u001B[39m_values[label]\n\u001B[1;32m   1155\u001B[0m \u001B[38;5;66;03m# Similar to Index.get_value, but we do not fall back to positional\u001B[39;00m\n\u001B[0;32m-> 1156\u001B[0m loc \u001B[38;5;241m=\u001B[39m \u001B[38;5;28;43mself\u001B[39;49m\u001B[38;5;241;43m.\u001B[39;49m\u001B[43mindex\u001B[49m\u001B[38;5;241;43m.\u001B[39;49m\u001B[43mget_loc\u001B[49m\u001B[43m(\u001B[49m\u001B[43mlabel\u001B[49m\u001B[43m)\u001B[49m\n\u001B[1;32m   1158\u001B[0m \u001B[38;5;28;01mif\u001B[39;00m is_integer(loc):\n\u001B[1;32m   1159\u001B[0m     \u001B[38;5;28;01mreturn\u001B[39;00m \u001B[38;5;28mself\u001B[39m\u001B[38;5;241m.\u001B[39m_values[loc]\n",
      "File \u001B[0;32m~/miniconda3/envs/JADS-PresAlgo/lib/python3.11/site-packages/pandas/core/indexes/range.py:418\u001B[0m, in \u001B[0;36mRangeIndex.get_loc\u001B[0;34m(self, key)\u001B[0m\n\u001B[1;32m    416\u001B[0m         \u001B[38;5;28;01mraise\u001B[39;00m \u001B[38;5;167;01mKeyError\u001B[39;00m(key) \u001B[38;5;28;01mfrom\u001B[39;00m \u001B[38;5;21;01merr\u001B[39;00m\n\u001B[1;32m    417\u001B[0m \u001B[38;5;28;01mif\u001B[39;00m \u001B[38;5;28misinstance\u001B[39m(key, Hashable):\n\u001B[0;32m--> 418\u001B[0m     \u001B[38;5;28;01mraise\u001B[39;00m \u001B[38;5;167;01mKeyError\u001B[39;00m(key)\n\u001B[1;32m    419\u001B[0m \u001B[38;5;28mself\u001B[39m\u001B[38;5;241m.\u001B[39m_check_indexing_error(key)\n\u001B[1;32m    420\u001B[0m \u001B[38;5;28;01mraise\u001B[39;00m \u001B[38;5;167;01mKeyError\u001B[39;00m(key)\n",
      "\u001B[0;31mKeyError\u001B[0m: 'start_maintenance'"
     ]
    }
   ],
   "execution_count": 19
  },
  {
   "metadata": {},
   "cell_type": "code",
   "outputs": [],
   "execution_count": null,
   "source": "",
   "id": "940a15c62fcf5502"
  }
 ],
 "metadata": {
  "kernelspec": {
   "display_name": "Python 3",
   "language": "python",
   "name": "python3"
  },
  "language_info": {
   "codemirror_mode": {
    "name": "ipython",
    "version": 2
   },
   "file_extension": ".py",
   "mimetype": "text/x-python",
   "name": "python",
   "nbconvert_exporter": "python",
   "pygments_lexer": "ipython2",
   "version": "2.7.6"
  }
 },
 "nbformat": 4,
 "nbformat_minor": 5
}
