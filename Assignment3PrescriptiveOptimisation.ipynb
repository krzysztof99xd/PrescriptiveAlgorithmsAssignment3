{
 "cells": [
  {
   "cell_type": "markdown",
   "id": "47573032",
   "metadata": {},
   "source": [
    "We will need to write the generic algorithm\n",
    "a) What does an individual look like, representing a complete maintenance schedule? \n",
    "b) What is our selection strategy?\n",
    "c) What is the crossover method?\n",
    "d) If we use, what is the mutation method?\n",
    "e) How do we feel with infeasible individuals after crossover/mutation?\n",
    "f) What are your population size, your crossover and mutation probabilities, and any other\n",
    "design choices and hyperparameters you might need?\n",
    "\n",
    "\n",
    "The algorithm should be suitable to solve the problem, and should be clearly described. It should be able\n",
    "to accept the predicted **Remaining Useful Lifetime (RULs)** for all engines as input, and output a valid maintenance solution for it. \n",
    "\n",
    "Such a solution should provide: \n",
    "(i) a list of all machines, indicating for any maintained machine the type of the team doing the maintenance, start-date, and end-date of the maintenance, as well as the penalty costs incurred by that machine;\n",
    "\n",
    "(ii) the total penalty costs. It is not important here what the concrete cost of such a solution is, it just should be feasible. Make sure your solution format is easy to read and understand\n",
    "\n",
    "**Input**: RUL predictions  (100 entries/rows)\n",
    "\n",
    "**Output**: a list of all machines, indicating for any maintained machine the type of the team doing the maintenance, start-date, and end-date of the maintenance, as well as the penalty costs incurred by that machine; (ii) the total penalty costs. (100 entries/rows)"
   ]
  },
  {
   "cell_type": "markdown",
   "id": "cf40f0fe",
   "metadata": {},
   "source": [
    "## Read the predicted RUL"
   ]
  },
  {
   "cell_type": "code",
   "execution_count": 12,
   "id": "3fb5f1ee",
   "metadata": {},
   "outputs": [
    {
     "name": "stdout",
     "output_type": "stream",
     "text": [
      "    RUL;id\n",
      "0    135;1\n",
      "1    125;2\n",
      "2     63;3\n",
      "3    100;4\n",
      "4    103;5\n",
      "..     ...\n",
      "95  140;96\n",
      "96  109;97\n",
      "97   87;98\n",
      "98  127;99\n",
      "99  24;100\n",
      "\n",
      "[100 rows x 1 columns]\n"
     ]
    }
   ],
   "source": [
    "import os\n",
    "import pandas as pd\n",
    "\n",
    "# Get the current working directory\n",
    "current_directory = os.getcwd()\n",
    "\n",
    "# Construct the relative path to prediction RUL file\n",
    "rul_filename = \"RUL_consultancy_predictions_A3-2.csv\"\n",
    "rul_path = os.path.join(current_directory, rul_filename)\n",
    "\n",
    "# Read the Excel file\n",
    "rul_df = pd.read_csv(rul_path)\n",
    "print(rul_df)"
   ]
  },
  {
   "cell_type": "markdown",
   "id": "a1ba59dd",
   "metadata": {},
   "source": [
    "## Lecture 6 from Hendrik Baier ;lecture 6 - evolutionary algorithms \n",
    "## First step in Genetic Algorithm: Population\n",
    "\n",
    "####  Who is an individual? I think it is one machine with its maintenance plan\n",
    "#### The whole population is all the machines with their maintenance plan?\n",
    "\n",
    "\n",
    "So the id from the RUL is the id of the engine, right? If we take the \n",
    "\n",
    "RUL;id\n",
    "135;1\n",
    "125;2\n",
    "...\n",
    "\n",
    "Engine number 1 has 135 days left until it needs to be maintained and engine 2 has 125 days ect."
   ]
  },
  {
   "cell_type": "code",
   "execution_count": 1,
   "id": "08b05efd",
   "metadata": {},
   "outputs": [],
   "source": [
    "# Define constants\n",
    "NUM_ENGINES = len(rul_df)\n",
    "NUM_TEAMS_A = 2\n",
    "NUM_TEAMS_B = 2\n",
    "PLANNING_HORIZON = 30\n",
    "MAX_DAILY_COST = 250\n",
    "\n",
    "# Define maintenance times for teams A and B\n",
    "maintenance_times_a = [4 if i < 20 else 3 if 20 <= i < 55 else 2 if 55 <= i < 80 else 8 for i in range(1, NUM_ENGINES + 1)]\n",
    "maintenance_times_b = [time_a + 1 if i < 25 else time_a + 2 if 25 <= i < 70 else time_a + 1 for i, time_a in enumerate(maintenance_times_a, start=1)]\n",
    "\n",
    "# Define engine costs\n",
    "engine_costs = [4 if i < 21 else 3 if 21 <= i < 31 else 2 if 31 <= i < 46 else 5 if 46 <= i < 81 else 6 for i in range(1, NUM_ENGINES + 1)]\n",
    "\n",
    "# Dictionary to store the maintenance schedule\n",
    "maintenance_schedule = {}\n",
    "\n",
    "# Function to assign maintenance to an engine by a team on a specific day\n",
    "def assign_maintenance(engine_index, day, team):\n",
    "    if engine_index not in maintenance_schedule:\n",
    "        maintenance_schedule[engine_index] = {}\n",
    "    if day not in maintenance_schedule[engine_index]:\n",
    "        maintenance_schedule[engine_index][day] = team\n",
    "    else:\n",
    "        # Handle case where another team is already assigned for the day\n",
    "        print(\"Error: Another team is already assigned for this day.\")\n",
    "\n",
    "# Function to get the maintenance team assigned to an engine on a specific day\n",
    "def get_maintenance_team(engine_index, day):\n",
    "    if engine_index in maintenance_schedule and day in maintenance_schedule[engine_index]:\n",
    "        return maintenance_schedule[engine_index][day]\n",
    "    else:\n",
    "        return None\n",
    "\n",
    "\n",
    "# Example usage\n",
    "assign_maintenance(1, 1, \"T1\")\n",
    "safety_due_date = 29  # Example RUL for engine 1 and Team 1\n",
    "print(calculate_penalty_cost(1, safety_due_date))"
   ]
  },
  {
   "cell_type": "markdown",
   "id": "08fd0210",
   "metadata": {},
   "source": [
    "## Fitness evaluation\n",
    "For each individual in the population we now calculate the fitness value\n",
    "\n",
    "In our case it is Teams of type A need μAj days to perform maintenance on engine j ∈ M * cost function?\n",
    "So then we keep iteraitng and we end up with the teams allocated to certain engines?"
   ]
  },
  {
   "cell_type": "code",
   "execution_count": null,
   "id": "b8385b17",
   "metadata": {},
   "outputs": [],
   "source": [
    "# Function to calculate penalty cost for unmaintained engine/machine\n",
    "def calculate_penalty_cost(engine_index, safety_due_date):\n",
    "    print(f\"Safety due date {safety_due_date} and planning horizon {PLANNING_HORIZON}\")\n",
    "    if safety_due_date >= PLANNING_HORIZON:\n",
    "        return 0  # No penalty if maintenance is performed within the planning horizon\n",
    "    else:\n",
    "        days_past_due = PLANNING_HORIZON - safety_due_date\n",
    "        daily_cost = engine_costs[engine_index - 1] * (days_past_due ** 2)\n",
    "        return min(daily_cost, MAX_DAILY_COST)  # Cap the daily cost at MAX_DAILY_COST\n"
   ]
  },
  {
   "cell_type": "markdown",
   "id": "15da6b72",
   "metadata": {},
   "source": [
    "## Check termination criteria\n",
    "\n",
    "### As presented on the slide it is very often unknown, often some threshold is introduced. In our case it is that company X wants to allocate teams to engines that have a predicted safety due date of less than 30\n",
    "\n",
    "### Termination criteria than is that all engines have due date less than 30?\n"
   ]
  },
  {
   "cell_type": "code",
   "execution_count": null,
   "id": "0a7816a7",
   "metadata": {},
   "outputs": [],
   "source": []
  },
  {
   "cell_type": "markdown",
   "id": "b12ac0af",
   "metadata": {},
   "source": [
    "## Selection of parents\n",
    "\n",
    "### In our case fitness value is RUL value or penalty cost?\n",
    "\n",
    "### I am still not sure how many parents we need to choose?"
   ]
  },
  {
   "cell_type": "code",
   "execution_count": null,
   "id": "a6793b70",
   "metadata": {},
   "outputs": [],
   "source": []
  },
  {
   "cell_type": "markdown",
   "id": "b742ec24",
   "metadata": {},
   "source": [
    "## Crossover"
   ]
  },
  {
   "cell_type": "code",
   "execution_count": null,
   "id": "2ae75ed4",
   "metadata": {},
   "outputs": [],
   "source": []
  },
  {
   "cell_type": "markdown",
   "id": "3ab6dd81",
   "metadata": {},
   "source": [
    "## Mutation (If any)"
   ]
  },
  {
   "cell_type": "code",
   "execution_count": null,
   "id": "cce603e0",
   "metadata": {},
   "outputs": [],
   "source": []
  },
  {
   "cell_type": "markdown",
   "id": "0205c386",
   "metadata": {},
   "source": [
    "## New offspring"
   ]
  },
  {
   "cell_type": "code",
   "execution_count": null,
   "id": "7355d55e",
   "metadata": {},
   "outputs": [],
   "source": []
  }
 ],
 "metadata": {
  "kernelspec": {
   "display_name": "Python 3 (ipykernel)",
   "language": "python",
   "name": "python3"
  },
  "language_info": {
   "codemirror_mode": {
    "name": "ipython",
    "version": 3
   },
   "file_extension": ".py",
   "mimetype": "text/x-python",
   "name": "python",
   "nbconvert_exporter": "python",
   "pygments_lexer": "ipython3",
   "version": "3.11.5"
  }
 },
 "nbformat": 4,
 "nbformat_minor": 5
}
